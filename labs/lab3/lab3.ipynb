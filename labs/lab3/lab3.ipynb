{
 "cells": [
  {
   "cell_type": "markdown",
   "id": "64de912d",
   "metadata": {},
   "source": [
    "## Лабораторная работа №3"
   ]
  },
  {
   "cell_type": "markdown",
   "id": "8f53f013",
   "metadata": {},
   "source": [
    "### 1. Используя Jupyter Lab, повторите примеры из раздела 3.2"
   ]
  },
  {
   "cell_type": "markdown",
   "id": "e0030ec2",
   "metadata": {},
   "source": [
    "### Циклы while и for"
   ]
  },
  {
   "cell_type": "code",
   "execution_count": 1,
   "id": "691efbb2",
   "metadata": {},
   "outputs": [
    {
     "name": "stdout",
     "output_type": "stream",
     "text": [
      "1\n",
      "2\n",
      "3\n",
      "4\n",
      "5\n",
      "6\n",
      "7\n",
      "8\n",
      "9\n",
      "10\n"
     ]
    }
   ],
   "source": [
    "# пока n<10 прибавить к n единицу и распечатать значение:\n",
    "n = 0\n",
    "while n < 10\n",
    "n += 1\n",
    "println(n)\n",
    "end"
   ]
  },
  {
   "cell_type": "code",
   "execution_count": 2,
   "id": "730dee3a",
   "metadata": {},
   "outputs": [
    {
     "name": "stdout",
     "output_type": "stream",
     "text": [
      "Hi Ted, it's great to see you!\n",
      "Hi Robyn, it's great to see you!\n",
      "Hi Barney, it's great to see you!\n",
      "Hi Lily, it's great to see you!\n",
      "Hi Marshall, it's great to see you!\n"
     ]
    }
   ],
   "source": [
    "myfriends = [\"Ted\", \"Robyn\", \"Barney\", \"Lily\", \"Marshall\"]\n",
    "i = 1\n",
    "while i <= length(myfriends)\n",
    "friend = myfriends[i]\n",
    "println(\"Hi $friend, it's great to see you!\")\n",
    "i += 1\n",
    "end"
   ]
  },
  {
   "cell_type": "code",
   "execution_count": 5,
   "id": "5b56e01c",
   "metadata": {},
   "outputs": [
    {
     "name": "stdout",
     "output_type": "stream",
     "text": [
      "1\n",
      "3\n",
      "5\n",
      "7\n",
      "9\n"
     ]
    }
   ],
   "source": [
    "for n in 1:2:10\n",
    "println(n)\n",
    "end"
   ]
  },
  {
   "cell_type": "code",
   "execution_count": 6,
   "id": "ac8593b9",
   "metadata": {},
   "outputs": [
    {
     "name": "stdout",
     "output_type": "stream",
     "text": [
      "Hi Ted, it's great to see you!\n",
      "Hi Robyn, it's great to see you!\n",
      "Hi Barney, it's great to see you!\n",
      "Hi Lily, it's great to see you!\n",
      "Hi Marshall, it's great to see you!\n"
     ]
    }
   ],
   "source": [
    "myfriends = [\"Ted\", \"Robyn\", \"Barney\", \"Lily\", \"Marshall\"]\n",
    "\n",
    "for friend in myfriends\n",
    "println(\"Hi $friend, it's great to see you!\")\n",
    "end"
   ]
  },
  {
   "cell_type": "code",
   "execution_count": 7,
   "id": "c14c083e",
   "metadata": {},
   "outputs": [
    {
     "data": {
      "text/plain": [
       "5×5 Matrix{Int64}:\n",
       " 2  3  4  5   6\n",
       " 3  4  5  6   7\n",
       " 4  5  6  7   8\n",
       " 5  6  7  8   9\n",
       " 6  7  8  9  10"
      ]
     },
     "execution_count": 7,
     "metadata": {},
     "output_type": "execute_result"
    }
   ],
   "source": [
    "# инициализация массива m x n из нулей:\n",
    "m, n = 5, 5\n",
    "A = fill(0, (m, n))\n",
    "# формирование массива, в котором значение каждой записи\n",
    "# является суммой индексов строки и столбца:\n",
    "for i in 1:m \n",
    "    for j in 1:n\n",
    "        A[i, j] = i + j\n",
    "    end\n",
    "end\n",
    "A"
   ]
  },
  {
   "cell_type": "code",
   "execution_count": 8,
   "id": "4c4d9c93",
   "metadata": {},
   "outputs": [
    {
     "data": {
      "text/plain": [
       "5×5 Matrix{Int64}:\n",
       " 2  3  4  5   6\n",
       " 3  4  5  6   7\n",
       " 4  5  6  7   8\n",
       " 5  6  7  8   9\n",
       " 6  7  8  9  10"
      ]
     },
     "execution_count": 8,
     "metadata": {},
     "output_type": "execute_result"
    }
   ],
   "source": [
    "# инициализация массива m x n из нулей:\n",
    "B = fill(0, (m, n))\n",
    "for i in 1:m, j in 1:n\n",
    "    B[i, j] = i + j\n",
    "end\n",
    "B"
   ]
  },
  {
   "cell_type": "code",
   "execution_count": 9,
   "id": "d5760792",
   "metadata": {},
   "outputs": [
    {
     "data": {
      "text/plain": [
       "5×5 Matrix{Int64}:\n",
       " 2  3  4  5   6\n",
       " 3  4  5  6   7\n",
       " 4  5  6  7   8\n",
       " 5  6  7  8   9\n",
       " 6  7  8  9  10"
      ]
     },
     "execution_count": 9,
     "metadata": {},
     "output_type": "execute_result"
    }
   ],
   "source": [
    "C = [i + j for i in 1:m, j in 1:n]\n",
    "C"
   ]
  },
  {
   "cell_type": "markdown",
   "id": "b0537f25",
   "metadata": {},
   "source": [
    "### Условные выражения"
   ]
  },
  {
   "cell_type": "markdown",
   "id": "0bc8af87",
   "metadata": {},
   "source": [
    "##### Пусть для заданного числа 𝑁 требуется вывести слово «Fizz», если 𝑁 делится на 3, «Buzz», если 𝑁 делится на 5, и «FizzBuzz», если 𝑁 делится на 3 и 5:"
   ]
  },
  {
   "cell_type": "code",
   "execution_count": 15,
   "id": "5958b976",
   "metadata": {},
   "outputs": [
    {
     "name": "stdout",
     "output_type": "stream",
     "text": [
      "FizzBuzz\n"
     ]
    }
   ],
   "source": [
    "N = 15\n",
    "# используем `&&` для реализации операции \"AND\"\n",
    "# операция % вычисляет остаток от деления\n",
    "if (N % 3 == 0) && (N % 5 == 0)\n",
    "    println(\"FizzBuzz\")\n",
    "elseif N % 3 == 0\n",
    "    println(\"Fizz\")\n",
    "elseif N % 5 == 0\n",
    "    println(\"Buzz\")\n",
    "else\n",
    "    println(N)\n",
    "end\n"
   ]
  },
  {
   "cell_type": "code",
   "execution_count": 18,
   "id": "a67bde52",
   "metadata": {},
   "outputs": [
    {
     "data": {
      "text/plain": [
       "10"
      ]
     },
     "execution_count": 18,
     "metadata": {},
     "output_type": "execute_result"
    }
   ],
   "source": [
    "x = 5\n",
    "y = 10\n",
    "(x > y) ? x : y"
   ]
  },
  {
   "cell_type": "markdown",
   "id": "aa0716cd",
   "metadata": {},
   "source": [
    "### Функции"
   ]
  },
  {
   "cell_type": "code",
   "execution_count": 21,
   "id": "961ab88d",
   "metadata": {},
   "outputs": [
    {
     "data": {
      "text/plain": [
       "f (generic function with 1 method)"
      ]
     },
     "execution_count": 21,
     "metadata": {},
     "output_type": "execute_result"
    }
   ],
   "source": [
    "function sayhi(name)\n",
    "    println(\"Hi $name, it's great to see you!\")\n",
    "end\n",
    "\n",
    "# функция возведения в квадрат:\n",
    "function f(x)\n",
    "    x^2\n",
    "end"
   ]
  },
  {
   "cell_type": "code",
   "execution_count": 22,
   "id": "be2764f2",
   "metadata": {},
   "outputs": [
    {
     "name": "stdout",
     "output_type": "stream",
     "text": [
      "Hi C-3PO, it's great to see you!\n"
     ]
    },
    {
     "data": {
      "text/plain": [
       "1764"
      ]
     },
     "execution_count": 22,
     "metadata": {},
     "output_type": "execute_result"
    }
   ],
   "source": [
    "sayhi(\"C-3PO\")\n",
    "f(42)"
   ]
  },
  {
   "cell_type": "code",
   "execution_count": 23,
   "id": "d968ec42",
   "metadata": {},
   "outputs": [
    {
     "data": {
      "text/plain": [
       "f2 (generic function with 1 method)"
      ]
     },
     "execution_count": 23,
     "metadata": {},
     "output_type": "execute_result"
    }
   ],
   "source": [
    "sayhi2(name) = println(\"Hi $name, it's great to see you!\")\n",
    "f2(x) = x^2"
   ]
  },
  {
   "cell_type": "code",
   "execution_count": 24,
   "id": "691a0087",
   "metadata": {},
   "outputs": [
    {
     "data": {
      "text/plain": [
       "#5 (generic function with 1 method)"
      ]
     },
     "execution_count": 24,
     "metadata": {},
     "output_type": "execute_result"
    }
   ],
   "source": [
    "sayhi3 = name -> println(\"Hi $name, it's great to see you!\")\n",
    "f3 = x -> x^2"
   ]
  },
  {
   "cell_type": "code",
   "execution_count": 27,
   "id": "a19568ed",
   "metadata": {},
   "outputs": [
    {
     "data": {
      "text/plain": [
       "3-element Vector{Int64}:\n",
       " 3\n",
       " 5\n",
       " 2"
      ]
     },
     "execution_count": 27,
     "metadata": {},
     "output_type": "execute_result"
    }
   ],
   "source": [
    "# задаём массив v:\n",
    "v = [3, 5, 2]\n",
    "sort(v)\n",
    "v"
   ]
  },
  {
   "cell_type": "code",
   "execution_count": 28,
   "id": "aec1091a",
   "metadata": {},
   "outputs": [
    {
     "data": {
      "text/plain": [
       "3-element Vector{Int64}:\n",
       " 2\n",
       " 3\n",
       " 5"
      ]
     },
     "execution_count": 28,
     "metadata": {},
     "output_type": "execute_result"
    }
   ],
   "source": [
    "sort!(v)\n",
    "v"
   ]
  },
  {
   "cell_type": "code",
   "execution_count": 29,
   "id": "abedc5ab",
   "metadata": {},
   "outputs": [
    {
     "data": {
      "text/plain": [
       "3-element Vector{Int64}:\n",
       " 1\n",
       " 4\n",
       " 9"
      ]
     },
     "execution_count": 29,
     "metadata": {},
     "output_type": "execute_result"
    }
   ],
   "source": [
    "map(f, [1, 2, 3])"
   ]
  },
  {
   "cell_type": "code",
   "execution_count": 30,
   "id": "f4afe241",
   "metadata": {},
   "outputs": [
    {
     "data": {
      "text/plain": [
       "3-element Vector{Int64}:\n",
       "  1\n",
       "  8\n",
       " 27"
      ]
     },
     "execution_count": 30,
     "metadata": {},
     "output_type": "execute_result"
    }
   ],
   "source": [
    "map(x -> x^3, [1, 2, 3])"
   ]
  },
  {
   "cell_type": "code",
   "execution_count": 31,
   "id": "48ae347d",
   "metadata": {},
   "outputs": [
    {
     "data": {
      "text/plain": [
       "3-element Vector{Int64}:\n",
       " 1\n",
       " 4\n",
       " 9"
      ]
     },
     "execution_count": 31,
     "metadata": {},
     "output_type": "execute_result"
    }
   ],
   "source": [
    "f(x) = x^2\n",
    "broadcast(f, [1, 2, 3])"
   ]
  },
  {
   "cell_type": "code",
   "execution_count": 32,
   "id": "f171927b",
   "metadata": {},
   "outputs": [
    {
     "data": {
      "text/plain": [
       "3-element Vector{Int64}:\n",
       " 1\n",
       " 4\n",
       " 9"
      ]
     },
     "execution_count": 32,
     "metadata": {},
     "output_type": "execute_result"
    }
   ],
   "source": [
    "f.([1, 2, 3])"
   ]
  },
  {
   "cell_type": "code",
   "execution_count": 33,
   "id": "73d282a1",
   "metadata": {},
   "outputs": [
    {
     "data": {
      "text/plain": [
       "3×3 Matrix{Int64}:\n",
       " 1  2  3\n",
       " 4  5  6\n",
       " 7  8  9"
      ]
     },
     "execution_count": 33,
     "metadata": {},
     "output_type": "execute_result"
    }
   ],
   "source": [
    "# Задаём матрицу A:\n",
    "A = [i + 3*j for j in 0:2, i in 1:3]"
   ]
  },
  {
   "cell_type": "code",
   "execution_count": 34,
   "id": "6bbd4539",
   "metadata": {},
   "outputs": [
    {
     "data": {
      "text/plain": [
       "3×3 Matrix{Int64}:\n",
       "  30   36   42\n",
       "  66   81   96\n",
       " 102  126  150"
      ]
     },
     "execution_count": 34,
     "metadata": {},
     "output_type": "execute_result"
    }
   ],
   "source": [
    "# Вызываем функцию f возведения в квадрат\n",
    "f(A)"
   ]
  },
  {
   "cell_type": "code",
   "execution_count": 35,
   "id": "14caf896",
   "metadata": {},
   "outputs": [
    {
     "data": {
      "text/plain": [
       "3×3 Matrix{Int64}:\n",
       "  1   4   9\n",
       " 16  25  36\n",
       " 49  64  81"
      ]
     },
     "execution_count": 35,
     "metadata": {},
     "output_type": "execute_result"
    }
   ],
   "source": [
    "B = f.(A)"
   ]
  },
  {
   "cell_type": "code",
   "execution_count": 36,
   "id": "c3c8a6bf",
   "metadata": {},
   "outputs": [
    {
     "data": {
      "text/plain": [
       "3×3 Matrix{Float64}:\n",
       "  3.0   6.0   9.0\n",
       " 12.0  15.0  18.0\n",
       " 21.0  24.0  27.0"
      ]
     },
     "execution_count": 36,
     "metadata": {},
     "output_type": "execute_result"
    }
   ],
   "source": [
    "A .+ 2 .* f.(A) ./ A"
   ]
  },
  {
   "cell_type": "code",
   "execution_count": 37,
   "id": "b98f726b",
   "metadata": {},
   "outputs": [
    {
     "data": {
      "text/plain": [
       "3×3 Matrix{Float64}:\n",
       "  3.0   6.0   9.0\n",
       " 12.0  15.0  18.0\n",
       " 21.0  24.0  27.0"
      ]
     },
     "execution_count": 37,
     "metadata": {},
     "output_type": "execute_result"
    }
   ],
   "source": [
    "@. A + 2 * f(A) / A"
   ]
  },
  {
   "cell_type": "code",
   "execution_count": 38,
   "id": "34b76d2b",
   "metadata": {},
   "outputs": [
    {
     "data": {
      "text/plain": [
       "3×3 Matrix{Float64}:\n",
       "  3.0   6.0   9.0\n",
       " 12.0  15.0  18.0\n",
       " 21.0  24.0  27.0"
      ]
     },
     "execution_count": 38,
     "metadata": {},
     "output_type": "execute_result"
    }
   ],
   "source": [
    "broadcast(x -> x + 2 * f(x) / x, A)"
   ]
  },
  {
   "cell_type": "markdown",
   "id": "c9cb892f",
   "metadata": {},
   "source": [
    "### Сторонние библиотеки (пакеты) в Julia"
   ]
  },
  {
   "cell_type": "code",
   "execution_count": 40,
   "id": "632e8a75",
   "metadata": {},
   "outputs": [
    {
     "name": "stderr",
     "output_type": "stream",
     "text": [
      "\u001b[32m\u001b[1m    Updating\u001b[22m\u001b[39m registry at `C:\\Users\\User\\.julia\\registries\\General.toml`\n",
      "\u001b[32m\u001b[1m   Resolving\u001b[22m\u001b[39m package versions...\n",
      "\u001b[32m\u001b[1m   Installed\u001b[22m\u001b[39m Example ─ v0.5.5\n",
      "\u001b[32m\u001b[1m    Updating\u001b[22m\u001b[39m `C:\\Users\\User\\.julia\\environments\\v1.10\\Project.toml`\n",
      "  \u001b[90m[7876af07] \u001b[39m\u001b[92m+ Example v0.5.5\u001b[39m\n",
      "\u001b[32m\u001b[1m    Updating\u001b[22m\u001b[39m `C:\\Users\\User\\.julia\\environments\\v1.10\\Manifest.toml`\n",
      "  \u001b[90m[7876af07] \u001b[39m\u001b[92m+ Example v0.5.5\u001b[39m\n",
      "\u001b[32m\u001b[1mPrecompiling\u001b[22m\u001b[39m project...\n",
      "\u001b[32m  ✓ \u001b[39mExample\n",
      "  1 dependency successfully precompiled in 28 seconds. 327 already precompiled.\n"
     ]
    }
   ],
   "source": [
    "import Pkg\n",
    "Pkg.add(\"Example\")"
   ]
  },
  {
   "cell_type": "code",
   "execution_count": 41,
   "id": "aa152a8b",
   "metadata": {},
   "outputs": [
    {
     "name": "stderr",
     "output_type": "stream",
     "text": [
      "\u001b[32m\u001b[1m   Resolving\u001b[22m\u001b[39m package versions...\n",
      "\u001b[32m\u001b[1m   Installed\u001b[22m\u001b[39m Colors ─ v0.12.11\n",
      "\u001b[32m\u001b[1m    Updating\u001b[22m\u001b[39m `C:\\Users\\User\\.julia\\environments\\v1.10\\Project.toml`\n",
      "\u001b[33m⌅\u001b[39m \u001b[90m[5ae59095] \u001b[39m\u001b[92m+ Colors v0.12.11\u001b[39m\n",
      "\u001b[32m\u001b[1m    Updating\u001b[22m\u001b[39m `C:\\Users\\User\\.julia\\environments\\v1.10\\Manifest.toml`\n",
      "\u001b[33m⌅\u001b[39m \u001b[90m[5ae59095] \u001b[39m\u001b[93m↑ Colors v0.12.10 ⇒ v0.12.11\u001b[39m\n",
      "\u001b[36m\u001b[1m        Info\u001b[22m\u001b[39m Packages marked with \u001b[33m⌅\u001b[39m have new versions available but compatibility constraints restrict them from upgrading. To see why use `status --outdated -m`\n",
      "\u001b[32m\u001b[1mPrecompiling\u001b[22m\u001b[39m project...\n",
      "\u001b[32m  ✓ \u001b[39mColors\n",
      "\u001b[32m  ✓ \u001b[39m\u001b[90mColorSchemes\u001b[39m\n",
      "\u001b[32m  ✓ \u001b[39m\u001b[90mPlotUtils\u001b[39m\n",
      "\u001b[32m  ✓ \u001b[39m\u001b[90mPlotThemes\u001b[39m\n",
      "\u001b[32m  ✓ \u001b[39m\u001b[90mRecipesPipeline\u001b[39m\n",
      "\u001b[32m  ✓ \u001b[39mPlots\n",
      "\u001b[32m  ✓ \u001b[39m\u001b[90mPlots → UnitfulExt\u001b[39m\n",
      "\u001b[32m  ✓ \u001b[39m\u001b[90mPlots → IJuliaExt\u001b[39m\n",
      "  8 dependencies successfully precompiled in 121 seconds. 320 already precompiled.\n"
     ]
    }
   ],
   "source": [
    "Pkg.add(\"Colors\")"
   ]
  },
  {
   "cell_type": "code",
   "execution_count": 42,
   "id": "448eeee9",
   "metadata": {},
   "outputs": [
    {
     "data": {
      "image/svg+xml": [
       "<?xml version=\"1.0\" encoding=\"UTF-8\"?>\n",
       "<!DOCTYPE svg PUBLIC \"-//W3C//DTD SVG 1.1//EN\"\n",
       " \"http://www.w3.org/Graphics/SVG/1.1/DTD/svg11.dtd\">\n",
       "<svg xmlns=\"http://www.w3.org/2000/svg\" version=\"1.1\"\n",
       "     width=\"75mm\" height=\"75mm\"\n",
       "     viewBox=\"0 0 3 3\" preserveAspectRatio=\"none\"\n",
       "     shape-rendering=\"crispEdges\" stroke=\"none\">\n",
       "<rect width=\".96\" height=\".96\" x=\"0\" y=\"0\" fill=\"#996F3D\" />\n",
       "<rect width=\".96\" height=\".96\" x=\"1\" y=\"0\" fill=\"#00CDAD\" />\n",
       "<rect width=\".96\" height=\".96\" x=\"2\" y=\"0\" fill=\"#7A7581\" />\n",
       "<rect width=\".96\" height=\".96\" x=\"0\" y=\"1\" fill=\"#787B3B\" />\n",
       "<rect width=\".96\" height=\".96\" x=\"1\" y=\"1\" fill=\"#875866\" />\n",
       "<rect width=\".96\" height=\".96\" x=\"2\" y=\"1\" fill=\"#003200\" />\n",
       "<rect width=\".96\" height=\".96\" x=\"0\" y=\"2\" fill=\"#80765F\" />\n",
       "<rect width=\".96\" height=\".96\" x=\"1\" y=\"2\" fill=\"#FF8E1D\" />\n",
       "<rect width=\".96\" height=\".96\" x=\"2\" y=\"2\" fill=\"#9E9E77\" />\n",
       "</svg>"
      ],
      "text/plain": [
       "3×3 Array{RGB{N0f8},2} with eltype RGB{FixedPointNumbers.N0f8}:\n",
       " RGB{N0f8}(0.6,0.435,0.239)    …  RGB{N0f8}(0.478,0.459,0.506)\n",
       " RGB{N0f8}(0.471,0.482,0.231)     RGB{N0f8}(0.0,0.196,0.0)\n",
       " RGB{N0f8}(0.502,0.463,0.373)     RGB{N0f8}(0.62,0.62,0.467)"
      ]
     },
     "execution_count": 42,
     "metadata": {},
     "output_type": "execute_result"
    }
   ],
   "source": [
    "using Colors\n",
    "palette = distinguishable_colors(100)\n",
    "rand(palette, 3, 3)"
   ]
  },
  {
   "cell_type": "markdown",
   "id": "3b552df6",
   "metadata": {},
   "source": [
    "### 2. Выполните задания для самостоятельной работы (раздел 3.4)."
   ]
  },
  {
   "cell_type": "markdown",
   "id": "95b1d4d9",
   "metadata": {},
   "source": [
    "#### 1. Используя циклы while и for:"
   ]
  },
  {
   "cell_type": "markdown",
   "id": "89f72a3f",
   "metadata": {},
   "source": [
    "– выведите на экран целые числа от 1 до 100 и напечатайте их квадраты;"
   ]
  },
  {
   "cell_type": "code",
   "execution_count": 46,
   "id": "c5eeee1f",
   "metadata": {},
   "outputs": [
    {
     "name": "stdout",
     "output_type": "stream",
     "text": [
      "1 2 3 4 5 6 7 8 9 10 11 12 13 14 15 16 17 18 19 20 21 22 23 24 25 26 27 28 29 30 31 32 33 34 35 36 37 38 39 40 41 42 43 44 45 46 47 48 49 50 51 52 53 54 55 56 57 58 59 60 61 62 63 64 65 66 67 68 69 70 71 72 73 74 75 76 77 78 79 80 81 82 83 84 85 86 87 88 89 90 91 92 93 94 95 96 97 98 99 100 \n",
      "\n",
      "1 4 9 16 25 36 49 64 81 100 121 144 169 196 225 256 289 324 361 400 441 484 529 576 625 676 729 784 841 900 961 1024 1089 1156 1225 1296 1369 1444 1521 1600 1681 1764 1849 1936 2025 2116 2209 2304 2401 2500 2601 2704 2809 2916 3025 3136 3249 3364 3481 3600 3721 3844 3969 4096 4225 4356 4489 4624 4761 4900 5041 5184 5329 5476 5625 5776 5929 6084 6241 6400 6561 6724 6889 7056 7225 7396 7569 7744 7921 8100 8281 8464 8649 8836 9025 9216 9409 9604 9801 10000 "
     ]
    }
   ],
   "source": [
    "for i in 1:100\n",
    "    print(i, \" \")\n",
    "end\n",
    "\n",
    "println()\n",
    "\n",
    "for i in 1:100\n",
    "    print(i^2, \" \")\n",
    "end"
   ]
  },
  {
   "cell_type": "code",
   "execution_count": 47,
   "id": "b995b6e5",
   "metadata": {},
   "outputs": [
    {
     "name": "stdout",
     "output_type": "stream",
     "text": [
      "1 2 3 4 5 6 7 8 9 10 11 12 13 14 15 16 17 18 19 20 21 22 23 24 25 26 27 28 29 30 31 32 33 34 35 36 37 38 39 40 41 42 43 44 45 46 47 48 49 50 51 52 53 54 55 56 57 58 59 60 61 62 63 64 65 66 67 68 69 70 71 72 73 74 75 76 77 78 79 80 81 82 83 84 85 86 87 88 89 90 91 92 93 94 95 96 97 98 99 100 \n",
      "\n",
      "1 4 9 16 25 36 49 64 81 100 121 144 169 196 225 256 289 324 361 400 441 484 529 576 625 676 729 784 841 900 961 1024 1089 1156 1225 1296 1369 1444 1521 1600 1681 1764 1849 1936 2025 2116 2209 2304 2401 2500 2601 2704 2809 2916 3025 3136 3249 3364 3481 3600 3721 3844 3969 4096 4225 4356 4489 4624 4761 4900 5041 5184 5329 5476 5625 5776 5929 6084 6241 6400 6561 6724 6889 7056 7225 7396 7569 7744 7921 8100 8281 8464 8649 8836 9025 9216 9409 9604 9801 10000 "
     ]
    }
   ],
   "source": [
    "i = 1\n",
    "while i <= 100\n",
    "    print(i, \" \")\n",
    "    i += 1\n",
    "end\n",
    "\n",
    "println()\n",
    "\n",
    "i = 0\n",
    "while i < 100\n",
    "    i += 1\n",
    "    print(i^2, \" \")\n",
    "end"
   ]
  },
  {
   "cell_type": "markdown",
   "id": "a16ce5bb",
   "metadata": {},
   "source": [
    "– создайте словарь squares, который будет содержать целые числа в качестве ключей и квадраты в качестве их пар-значений;"
   ]
  },
  {
   "cell_type": "code",
   "execution_count": 49,
   "id": "2927897f",
   "metadata": {},
   "outputs": [
    {
     "name": "stdout",
     "output_type": "stream",
     "text": [
      "Dict(5 => 25, 56 => 3136, 35 => 1225, 55 => 3025, 60 => 3600, 30 => 900, 32 => 1024, 6 => 36, 67 => 4489, 45 => 2025, 73 => 5329, 64 => 4096, 90 => 8100, 4 => 16, 13 => 169, 54 => 2916, 63 => 3969, 86 => 7396, 91 => 8281, 62 => 3844, 58 => 3364, 52 => 2704, 12 => 144, 28 => 784, 75 => 5625, 23 => 529, 92 => 8464, 41 => 1681, 43 => 1849, 11 => 121, 36 => 1296, 68 => 4624, 69 => 4761, 98 => 9604, 82 => 6724, 85 => 7225, 39 => 1521, 84 => 7056, 77 => 5929, 7 => 49, 25 => 625, 95 => 9025, 71 => 5041, 66 => 4356, 76 => 5776, 34 => 1156, 50 => 2500, 59 => 3481, 93 => 8649, 2 => 4, 10 => 100, 18 => 324, 26 => 676, 27 => 729, 42 => 1764, 87 => 7569, 100 => 10000, 79 => 6241, 16 => 256, 20 => 400, 81 => 6561, 19 => 361, 49 => 2401, 44 => 1936, 9 => 81, 31 => 961, 74 => 5476, 61 => 3721, 29 => 841, 94 => 8836, 46 => 2116, 57 => 3249, 70 => 4900, 21 => 441, 38 => 1444, 88 => 7744, 78 => 6084, 72 => 5184, 24 => 576, 8 => 64, 17 => 289, 37 => 1369, 53 => 2809, 22 => 484, 47 => 2209, 83 => 6889, 99 => 9801, 89 => 7921, 14 => 196, 3 => 9, 80 => 6400, 96 => 9216, 51 => 2601, 33 => 1089, 40 => 1600, 48 => 2304, 15 => 225, 65 => 4225, 97 => 9409)\n",
      "Dict(3364 => 58, 9604 => 98, 3025 => 55, 2809 => 53, 1024 => 32, 1296 => 36, 6889 => 83, 784 => 28, 4900 => 70, 196 => 14, 4624 => 68, 64 => 8, 5184 => 72, 324 => 18, 1521 => 39, 7056 => 84, 7225 => 85, 8464 => 92, 2401 => 49, 5329 => 73, 6084 => 78, 9409 => 97, 1444 => 38, 6561 => 81, 6241 => 79, 1156 => 34, 676 => 26, 961 => 31, 4096 => 64, 256 => 16, 2704 => 52, 361 => 19, 36 => 6, 2304 => 48, 2025 => 45, 5476 => 74, 2500 => 50, 3969 => 63, 9216 => 96, 25 => 5, 441 => 21, 5929 => 77, 6724 => 82, 7921 => 89, 2 => 4, 4761 => 69, 144 => 12, 100 => 10, 169 => 13, 484 => 22, 16 => 4, 81 => 9, 729 => 27, 10000 => 100, 8836 => 94, 289 => 17, 49 => 7, 9801 => 99, 1764 => 42, 9 => 3, 3136 => 56, 3249 => 57, 841 => 29, 2601 => 51, 900 => 30, 1089 => 33, 1849 => 43, 8649 => 93, 225 => 15, 576 => 24, 2116 => 46, 2916 => 54, 7744 => 88, 5625 => 75, 6400 => 80, 9025 => 95, 1600 => 40, 8100 => 90, 5041 => 71, 3600 => 60, 7396 => 86, 625 => 25, 1936 => 44, 5776 => 76, 7569 => 87, 121 => 11, 529 => 23, 3844 => 62, 3481 => 59, 8281 => 91, 4225 => 65, 4356 => 66, 400 => 20, 4489 => 67, 2209 => 47, 1225 => 35, 1369 => 37, 1681 => 41, 3721 => 61)\n"
     ]
    }
   ],
   "source": [
    "squares = Dict(i => i^2 for i in 2:100)\n",
    "squares2 = Dict(2 => 4)\n",
    "i = 3\n",
    "while i <= 100\n",
    "    setindex!(squares2, i, i^2)\n",
    "    i += 1\n",
    "end\n",
    "println(squares)\n",
    "println(squares2)"
   ]
  },
  {
   "cell_type": "markdown",
   "id": "eeb534ca",
   "metadata": {},
   "source": [
    "– создайте массив squares_arr, содержащий квадраты всех чисел от 1 до 100"
   ]
  },
  {
   "cell_type": "code",
   "execution_count": 51,
   "id": "09c1ffc7",
   "metadata": {},
   "outputs": [
    {
     "data": {
      "text/plain": [
       "100×2 Matrix{Float64}:\n",
       "     1.0      1.0\n",
       "     4.0      4.0\n",
       "     9.0      9.0\n",
       "    16.0     16.0\n",
       "    25.0     25.0\n",
       "    36.0     36.0\n",
       "    49.0     49.0\n",
       "    64.0     64.0\n",
       "    81.0     81.0\n",
       "   100.0    100.0\n",
       "   121.0    121.0\n",
       "   144.0    144.0\n",
       "   169.0    169.0\n",
       "     ⋮    \n",
       "  7921.0   7921.0\n",
       "  8100.0   8100.0\n",
       "  8281.0   8281.0\n",
       "  8464.0   8464.0\n",
       "  8649.0   8649.0\n",
       "  8836.0   8836.0\n",
       "  9025.0   9025.0\n",
       "  9216.0   9216.0\n",
       "  9409.0   9409.0\n",
       "  9604.0   9604.0\n",
       "  9801.0   9801.0\n",
       " 10000.0  10000.0"
      ]
     },
     "execution_count": 51,
     "metadata": {},
     "output_type": "execute_result"
    }
   ],
   "source": [
    "squares_arr = [i^2 for i in 1:100]\n",
    "squares_arr2 = zeros(100)\n",
    "i = 1\n",
    "while i <= 100\n",
    "    squares_arr2[i] = i^2\n",
    "    i += 1\n",
    "end\n",
    "hcat(squares_arr, squares_arr2)"
   ]
  },
  {
   "cell_type": "markdown",
   "id": "2c60a2b8",
   "metadata": {},
   "source": [
    "#### 2. Напишите условный оператор, который печатает число, если число чётное, и строку «нечётное», если число нечётное. Перепишите код, используя тернарный оператор."
   ]
  },
  {
   "cell_type": "code",
   "execution_count": 54,
   "id": "675e6641",
   "metadata": {},
   "outputs": [
    {
     "name": "stdout",
     "output_type": "stream",
     "text": [
      "Нечетное\n",
      "32\n"
     ]
    },
    {
     "data": {
      "text/plain": [
       "(nothing, nothing)"
      ]
     },
     "execution_count": 54,
     "metadata": {},
     "output_type": "execute_result"
    }
   ],
   "source": [
    "function chet(x)\n",
    "    if x%2 == 0\n",
    "        println(x)\n",
    "    else\n",
    "        println(\"Нечетное\")\n",
    "    end\n",
    "end\n",
    "chet(25), chet(32)"
   ]
  },
  {
   "cell_type": "code",
   "execution_count": 55,
   "id": "473461a7",
   "metadata": {},
   "outputs": [
    {
     "name": "stdout",
     "output_type": "stream",
     "text": [
      "Нечетное\n",
      "32\n"
     ]
    },
    {
     "data": {
      "text/plain": [
       "(nothing, nothing)"
      ]
     },
     "execution_count": 55,
     "metadata": {},
     "output_type": "execute_result"
    }
   ],
   "source": [
    "# Перепишите код, используя тернарный оператор.\n",
    "function chet2(x)\n",
    "    x%2 == 0 ? println(x) : println(\"Нечетное\")\n",
    "end\n",
    "chet(25), chet(32)"
   ]
  },
  {
   "cell_type": "markdown",
   "id": "33489c34",
   "metadata": {},
   "source": [
    "#### 3. Напишите функцию add_one, которая добавляет 1 к своему входу."
   ]
  },
  {
   "cell_type": "code",
   "execution_count": 56,
   "id": "9925febd",
   "metadata": {},
   "outputs": [
    {
     "data": {
      "text/plain": [
       "6"
      ]
     },
     "execution_count": 56,
     "metadata": {},
     "output_type": "execute_result"
    }
   ],
   "source": [
    "function add_one(x)\n",
    "    return x+1\n",
    "end\n",
    "add_one(5)"
   ]
  },
  {
   "cell_type": "markdown",
   "id": "44a99b91",
   "metadata": {},
   "source": [
    "#### 4. Используйте map() или broadcast() для задания матрицы 𝐴, каждый элемент которой увеличивается на единицу по сравнению с предыдущим."
   ]
  },
  {
   "cell_type": "code",
   "execution_count": 57,
   "id": "79200dfa",
   "metadata": {},
   "outputs": [
    {
     "data": {
      "text/plain": [
       "3×5 Matrix{Int64}:\n",
       " 1  4  7  10  13\n",
       " 2  5  8  11  14\n",
       " 3  6  9  12  15"
      ]
     },
     "metadata": {},
     "output_type": "display_data"
    },
    {
     "data": {
      "text/plain": [
       "3×5 Matrix{Int64}:\n",
       " 1  4  7  10  13\n",
       " 2  5  8  11  14\n",
       " 3  6  9  12  15"
      ]
     },
     "execution_count": 57,
     "metadata": {},
     "output_type": "execute_result"
    }
   ],
   "source": [
    "A = zeros(Int64, 3, 5)\n",
    "t = map!(x -> x+1, A, 0:14); display(A)\n",
    "t = broadcast(add_one, reshape(0:14, 3, 5))"
   ]
  },
  {
   "cell_type": "markdown",
   "id": "604dfc64",
   "metadata": {},
   "source": [
    "#### 5. Задайте матрицу $A$ следующего вида:\n",
    "\n",
    "$$\n",
    "A = \\begin{pmatrix}\n",
    "1 & 1 & 3 \\\\\n",
    "5 & 2 & 6 \\\\\n",
    "-2 & -1 & -3\n",
    "\\end{pmatrix}\n",
    "$$"
   ]
  },
  {
   "cell_type": "code",
   "execution_count": 59,
   "id": "e44f430c",
   "metadata": {},
   "outputs": [
    {
     "data": {
      "text/plain": [
       "3×3 Matrix{Int64}:\n",
       "  1   1   3\n",
       "  5   2   6\n",
       " -2  -1  -3"
      ]
     },
     "execution_count": 59,
     "metadata": {},
     "output_type": "execute_result"
    }
   ],
   "source": [
    "A = [1 1 3; 5 2 6; -2 -1 -3]"
   ]
  },
  {
   "cell_type": "markdown",
   "id": "0d10b5db",
   "metadata": {},
   "source": [
    "- Найдите $A^3$ "
   ]
  },
  {
   "cell_type": "code",
   "execution_count": 60,
   "id": "7f9b0bff",
   "metadata": {},
   "outputs": [
    {
     "data": {
      "text/plain": [
       "3×3 Matrix{Int64}:\n",
       "  0   0   0\n",
       "  3   3   9\n",
       " -1  -1  -3"
      ]
     },
     "metadata": {},
     "output_type": "display_data"
    },
    {
     "data": {
      "text/plain": [
       "3×3 Matrix{Int64}:\n",
       " 0  0  0\n",
       " 0  0  0\n",
       " 0  0  0"
      ]
     },
     "metadata": {},
     "output_type": "display_data"
    }
   ],
   "source": [
    "display(A^2)\n",
    "display(A^3)"
   ]
  },
  {
   "cell_type": "markdown",
   "id": "5946d495",
   "metadata": {},
   "source": [
    "- Замените третий столбец матрицы $A$ на сумму 2-го и 3-го столбцов"
   ]
  },
  {
   "cell_type": "code",
   "execution_count": 61,
   "id": "c01076ef",
   "metadata": {},
   "outputs": [
    {
     "data": {
      "text/plain": [
       "3×3 Matrix{Int64}:\n",
       "  1   1   4\n",
       "  5   2   8\n",
       " -2  -1  -4"
      ]
     },
     "execution_count": 61,
     "metadata": {},
     "output_type": "execute_result"
    }
   ],
   "source": [
    "A[:, 3] = A[:, 2] + A[:, 3]\n",
    "A"
   ]
  },
  {
   "cell_type": "markdown",
   "id": "3a230943",
   "metadata": {},
   "source": [
    "#### 6. Создайте матрицу $B$ с элементами $B_{i1} = 10, B_{i2} = −10, B_{i3} = 10, \\quad i = 1, 2, … , 15$."
   ]
  },
  {
   "cell_type": "code",
   "execution_count": 62,
   "id": "432f3dc2",
   "metadata": {},
   "outputs": [
    {
     "data": {
      "text/plain": [
       "15×3 Matrix{Int64}:\n",
       " 10  -10  10\n",
       " 10  -10  10\n",
       " 10  -10  10\n",
       " 10  -10  10\n",
       " 10  -10  10\n",
       " 10  -10  10\n",
       " 10  -10  10\n",
       " 10  -10  10\n",
       " 10  -10  10\n",
       " 10  -10  10\n",
       " 10  -10  10\n",
       " 10  -10  10\n",
       " 10  -10  10\n",
       " 10  -10  10\n",
       " 10  -10  10"
      ]
     },
     "execution_count": 62,
     "metadata": {},
     "output_type": "execute_result"
    }
   ],
   "source": [
    "B = fill(10, (15,3))\n",
    "B[:, 2] = -B[:, 2]\n",
    "B"
   ]
  },
  {
   "cell_type": "markdown",
   "id": "fba687d2",
   "metadata": {},
   "source": [
    "Вычислите матрицу $C = B^T B$."
   ]
  },
  {
   "cell_type": "code",
   "execution_count": 63,
   "id": "2312b6d0",
   "metadata": {},
   "outputs": [
    {
     "data": {
      "text/plain": [
       "3×3 Matrix{Int64}:\n",
       "  1500  -1500   1500\n",
       " -1500   1500  -1500\n",
       "  1500  -1500   1500"
      ]
     },
     "execution_count": 63,
     "metadata": {},
     "output_type": "execute_result"
    }
   ],
   "source": [
    "C = B' * B"
   ]
  },
  {
   "cell_type": "markdown",
   "id": "15cd74cc",
   "metadata": {},
   "source": [
    "#### 7. Создайте матрицу $Z$ размерности $6\\times 6$, все элементы которой равны нулю, и матрицу $E$, все элементы которой равны $1$."
   ]
  },
  {
   "cell_type": "code",
   "execution_count": 64,
   "id": "8feaffd6",
   "metadata": {},
   "outputs": [
    {
     "data": {
      "text/plain": [
       "6×6 Matrix{Int64}:\n",
       " 0  0  0  0  0  0\n",
       " 0  0  0  0  0  0\n",
       " 0  0  0  0  0  0\n",
       " 0  0  0  0  0  0\n",
       " 0  0  0  0  0  0\n",
       " 0  0  0  0  0  0"
      ]
     },
     "metadata": {},
     "output_type": "display_data"
    },
    {
     "data": {
      "text/plain": [
       "6×6 Matrix{Int64}:\n",
       " 1  1  1  1  1  1\n",
       " 1  1  1  1  1  1\n",
       " 1  1  1  1  1  1\n",
       " 1  1  1  1  1  1\n",
       " 1  1  1  1  1  1\n",
       " 1  1  1  1  1  1"
      ]
     },
     "execution_count": 64,
     "metadata": {},
     "output_type": "execute_result"
    }
   ],
   "source": [
    "Z = zeros(Int64, 6, 6); display(Z)\n",
    "E = ones(Int64, 6, 6)"
   ]
  },
  {
   "cell_type": "markdown",
   "id": "a0cc2470",
   "metadata": {},
   "source": [
    "Используя цикл `while` или `for` и закономерности расположения элементов, создайте следующие матрицы размерности $6\\times 6$:\n",
    "\n",
    "$$\n",
    "Z_1 = \\begin{pmatrix}\n",
    "0 & 1 & 0 & 0 & 0 & 0 \\\\\n",
    "1 & 0 & 1 & 0 & 0 & 0 \\\\\n",
    "0 & 1 & 0 & 1 & 0 & 0 \\\\\n",
    "0 & 0 & 1 & 0 & 1 & 0 \\\\\n",
    "0 & 0 & 0 & 1 & 0 & 1 \\\\\n",
    "0 & 0 & 0 & 0 & 1 & 0\n",
    "\\end{pmatrix}, \\qquad\n",
    "Z_2 = \\begin{pmatrix}\n",
    "1 & 0 & 1 & 0 & 0 & 0 \\\\\n",
    "0 & 1 & 0 & 1 & 0 & 0 \\\\\n",
    "1 & 0 & 1 & 0 & 1 & 0 \\\\\n",
    "0 & 1 & 0 & 1 & 0 & 1 \\\\\n",
    "0 & 0 & 1 & 0 & 1 & 0 \\\\\n",
    "0 & 0 & 0 & 1 & 0 & 1\n",
    "\\end{pmatrix},\n",
    "$$\n",
    "\n",
    "$$\n",
    "Z_3 = \\begin{pmatrix}\n",
    "0 & 0 & 0 & 1 & 0 & 1 \\\\\n",
    "0 & 0 & 1 & 0 & 1 & 0 \\\\\n",
    "0 & 1 & 0 & 1 & 0 & 1 \\\\\n",
    "1 & 0 & 1 & 0 & 1 & 0 \\\\\n",
    "0 & 1 & 0 & 1 & 0 & 0 \\\\\n",
    "1 & 0 & 1 & 0 & 0 & 0\n",
    "\\end{pmatrix}, \\qquad\n",
    "Z_4 = \\begin{pmatrix}\n",
    "1 & 0 & 1 & 0 & 1 & 0 \\\\\n",
    "0 & 1 & 0 & 1 & 0 & 1 \\\\\n",
    "1 & 0 & 1 & 0 & 1 & 0 \\\\\n",
    "0 & 1 & 0 & 1 & 0 & 1 \\\\\n",
    "1 & 0 & 1 & 0 & 1 & 0 \\\\\n",
    "0 & 1 & 0 & 1 & 0 & 1\n",
    "\\end{pmatrix}.\n",
    "$$"
   ]
  },
  {
   "cell_type": "code",
   "execution_count": 67,
   "id": "4e587356",
   "metadata": {},
   "outputs": [
    {
     "data": {
      "text/plain": [
       "6×6 Matrix{Int64}:\n",
       " 0  1  0  0  0  0\n",
       " 1  0  1  0  0  0\n",
       " 0  1  0  1  0  0\n",
       " 0  0  1  0  1  0\n",
       " 0  0  0  1  0  1\n",
       " 0  0  0  0  1  0"
      ]
     },
     "metadata": {},
     "output_type": "display_data"
    },
    {
     "data": {
      "text/plain": [
       "6×6 Matrix{Int64}:\n",
       " 1  0  1  0  0  0\n",
       " 0  1  0  1  0  0\n",
       " 1  0  1  0  1  0\n",
       " 0  1  0  1  0  1\n",
       " 0  0  1  0  1  0\n",
       " 0  0  0  1  0  1"
      ]
     },
     "metadata": {},
     "output_type": "display_data"
    },
    {
     "data": {
      "text/plain": [
       "6×6 Matrix{Int64}:\n",
       " 0  0  0  1  0  1\n",
       " 0  0  1  0  1  0\n",
       " 0  1  0  1  0  1\n",
       " 1  0  1  0  1  0\n",
       " 0  1  0  1  0  0\n",
       " 1  0  1  0  0  0"
      ]
     },
     "metadata": {},
     "output_type": "display_data"
    },
    {
     "data": {
      "text/plain": [
       "6×6 Matrix{Int64}:\n",
       " 1  0  1  0  1  0\n",
       " 0  1  0  1  0  1\n",
       " 1  0  1  0  1  0\n",
       " 0  1  0  1  0  1\n",
       " 1  0  1  0  1  0\n",
       " 0  1  0  1  0  1"
      ]
     },
     "metadata": {},
     "output_type": "display_data"
    }
   ],
   "source": [
    "Z1, Z2, Z3, Z4 = zeros(Int64, 6, 6), zeros(Int64, 6, 6), zeros(Int64, 6, 6), zeros(Int64, 6, 6)\n",
    "for i in 1:6, j in 1:6\n",
    "    if i == j+1 || i == j-1\n",
    "        Z1[i,j] = 1\n",
    "    end\n",
    "    if i == j || i == j-2 || i == j+2\n",
    "        Z2[i,j] = 1\n",
    "    end\n",
    "    if i == 7-j || i == 5-j || i == 9-j\n",
    "        Z3[i,j]= 1\n",
    "    end\n",
    "    if (i+j)%2 == 0\n",
    "        Z4[i,j] = 1\n",
    "    end\n",
    "end\n",
    "display(Z1); display(Z2); display(Z3); display(Z4)"
   ]
  },
  {
   "cell_type": "markdown",
   "id": "7c9dfc33",
   "metadata": {},
   "source": [
    "#### 8. В языке R есть функция outer(). Фактически, это матричное умножение с возможностью изменить применяемую операцию (например, заменить произведение на сложение или возведение в степень).\n",
    "\n",
    "- Напишите свою функцию, аналогичную функции outer() языка R. Функция должна иметь следующий интерфейс: `outer(x,y,operation)`. Таким образом, функция вида `outer(A,B,*)` должна быть эквивалентна произведению матриц $A$ и $B$ размерностями $L\\times M$ и $M\\times N$ соответственно, где элементы результирующей матрицы $C$ имеют вид $C_{ij} = \\sum_{k=1}^{M} A_{ik}B_{kj}$ (или в тензорном виде $C_i^j = \\sum_{k=1}^{M} A^i_kB^k_j$)"
   ]
  },
  {
   "cell_type": "code",
   "execution_count": 82,
   "id": "8f8eedfd",
   "metadata": {},
   "outputs": [
    {
     "data": {
      "text/plain": [
       "4×6 Matrix{Int64}:\n",
       "  7  10  10  9  7  5\n",
       "  5   6  10  9  1  5\n",
       "  4   2   8  8  8  7\n",
       " 10   3   5  5  8  6"
      ]
     },
     "metadata": {},
     "output_type": "display_data"
    },
    {
     "data": {
      "text/plain": [
       "6×3 Matrix{Int64}:\n",
       "  8   4  5\n",
       "  5  10  3\n",
       "  4   6  6\n",
       " 10   8  4\n",
       "  5   6  7\n",
       "  9  10  4"
      ]
     },
     "metadata": {},
     "output_type": "display_data"
    },
    {
     "data": {
      "text/plain": [
       "4×4 Matrix{Float64}:\n",
       " 404.0  308.0  291.0  281.0\n",
       " 308.0  268.0  227.0  201.0\n",
       " 291.0  227.0  261.0  232.0\n",
       " 281.0  201.0  232.0  259.0"
      ]
     },
     "metadata": {},
     "output_type": "display_data"
    },
    {
     "data": {
      "text/plain": [
       "3×3 Matrix{Float64}:\n",
       " 82.0  85.0  70.0\n",
       " 85.0  88.0  73.0\n",
       " 70.0  73.0  58.0"
      ]
     },
     "metadata": {},
     "output_type": "display_data"
    },
    {
     "data": {
      "text/plain": [
       "4×3 Matrix{Float64}:\n",
       " 25.0  14.0   9.0\n",
       " 23.0  18.0   7.0\n",
       " 24.0  13.0  12.0\n",
       " 20.0  23.0   9.0"
      ]
     },
     "metadata": {},
     "output_type": "display_data"
    },
    {
     "data": {
      "text/plain": [
       "4×3 Matrix{Float64}:\n",
       " 8.23056  7.20833  10.9\n",
       " 5.98056  5.30833   8.30952\n",
       " 6.07778  5.56667   7.69286\n",
       " 5.86667  6.19167   7.72619"
      ]
     },
     "metadata": {},
     "output_type": "display_data"
    },
    {
     "data": {
      "text/plain": [
       "4×3 Matrix{Float64}:\n",
       "  7.0   4.0  19.0\n",
       " -5.0  -8.0   7.0\n",
       " -4.0  -7.0   8.0\n",
       " -4.0  -7.0   8.0"
      ]
     },
     "metadata": {},
     "output_type": "display_data"
    },
    {
     "data": {
      "text/plain": [
       "4×3 Matrix{Float64}:\n",
       " 5.0  5.0  9.0\n",
       " 3.0  3.0  7.0\n",
       " 3.0  4.0  5.0\n",
       " 3.0  3.0  6.0"
      ]
     },
     "metadata": {},
     "output_type": "display_data"
    }
   ],
   "source": [
    "function outer(A, B, operation)\n",
    "    if size(A)[2] != size(B)[1]\n",
    "        println(\"Size incompatability!\")\n",
    "        return\n",
    "    end\n",
    "    answ = zeros(size(A)[1], size(B)[2])\n",
    "    for i in 1:size(A)[1], j in 1:size(B)[2]\n",
    "        answ[i,j] = sum(operation(A[i,k], B[k,j]) for k in 1:size(A)[2])\n",
    "    end\n",
    "    return answ\n",
    "end\n",
    "mtrx1, mtrx2 = rand(1:10, 4, 6), rand(1:10, 6, 3); display(mtrx1); display(mtrx2)\n",
    "display(outer(mtrx1, mtrx1', *))\n",
    "display(outer(mtrx2', mtrx2, +))\n",
    "display(outer(mtrx1, mtrx2, %))\n",
    "display(outer(mtrx1, mtrx2, /))\n",
    "display(outer(mtrx1, mtrx2, -))\n",
    "display(outer(mtrx1, mtrx2, div))"
   ]
  },
  {
   "cell_type": "markdown",
   "id": "95152154",
   "metadata": {},
   "source": [
    "\n",
    "- Используя написанную вами функцию `outer()`, создайте матрицы следующей структуры:\n",
    "\n",
    "$$\n",
    "A_1 = \\begin{pmatrix}\n",
    "0 & 1 & 2 & 3 & 4 \\\\\n",
    "1 & 2 & 3 & 4 & 5 \\\\\n",
    "2 & 3 & 4 & 5 & 6 \\\\\n",
    "3 & 4 & 5 & 6 & 7 \\\\\n",
    "4 & 5 & 6 & 7 & 8\n",
    "\\end{pmatrix}, \\qquad\n",
    "A_2 = \\begin{pmatrix}\n",
    "0 & 0 & 0 & 0 & 0 \\\\\n",
    "1 & 1 & 1 & 1 & 1 \\\\\n",
    "2 & 4 & 8 & 16 & 32 \\\\\n",
    "3 & 9 & 27 & 81 & 243 \\\\\n",
    "4 & 16 & 64 & 256 & 1024\n",
    "\\end{pmatrix},\n",
    "$$\n",
    "\n",
    "$$\n",
    "A_3 = \\begin{pmatrix}\n",
    "0 & 1 & 2 & 3 & 4 \\\\\n",
    "1 & 2 & 3 & 4 & 0 \\\\\n",
    "2 & 3 & 4 & 0 & 1 \\\\\n",
    "3 & 4 & 0 & 1 & 2 \\\\\n",
    "4 & 0 & 1 & 2 & 3\n",
    "\\end{pmatrix}, \\qquad\n",
    "A_4 = \\begin{pmatrix}\n",
    "0 & 1 & 2 & 3 & 4 & 5 & 6 & 7 & 8 & 9 \\\\\n",
    "1 & 2 & 3 & 4 & 5 & 6 & 7 & 8 & 9 & 0 \\\\\n",
    "\\vdots & \\vdots & \\vdots & \\vdots & \\vdots & \\vdots & \\vdots & \\vdots & \\vdots & \\vdots \\\\\n",
    "8 & 9 & 0 & 1 & 2 & 3 & 4 & 5 & 6 & 7 \\\\\n",
    "9 & 0 & 1 & 2 & 3 & 4 & 5 & 6 & 7 & 8\n",
    "\\end{pmatrix},\n",
    "$$\n",
    "\n",
    "$$\n",
    "A_5 = \\begin{pmatrix}\n",
    "0 & 8 & 7 & 6 & 5 & 4 & 3 & 2 & 1 \\\\\n",
    "1 & 0 & 8 & 7 & 6 & 5 & 4 & 3 & 2 \\\\\n",
    "2 & 1 & 0 & 8 & 7 & 6 & 5 & 4 & 3 \\\\\n",
    "3 & 2 & 1 & 0 & 8 & 7 & 6 & 5 & 4 \\\\\n",
    "4 & 3 & 2 & 1 & 0 & 8 & 7 & 6 & 5 \\\\\n",
    "5 & 4 & 3 & 2 & 1 & 0 & 8 & 7 & 6 \\\\\n",
    "6 & 5 & 4 & 3 & 2 & 1 & 0 & 8 & 7 \\\\\n",
    "7 & 6 & 5 & 4 & 3 & 2 & 1 & 0 & 8 \\\\\n",
    "8 & 7 & 6 & 5 & 4 & 3 & 2 & 1 & 0\n",
    "\\end{pmatrix}.\n",
    "$$\n",
    "\n",
    "В каждом случае ваше решение должно быть легко обобщаемым на случай создания матриц большей размерности, но той же структуры."
   ]
  },
  {
   "cell_type": "code",
   "execution_count": 83,
   "id": "795f1f65",
   "metadata": {},
   "outputs": [
    {
     "data": {
      "text/plain": [
       "5×5 Matrix{Int64}:\n",
       " 0  1  2  3  4\n",
       " 1  2  3  4  5\n",
       " 2  3  4  5  6\n",
       " 3  4  5  6  7\n",
       " 4  5  6  7  8"
      ]
     },
     "metadata": {},
     "output_type": "display_data"
    },
    {
     "data": {
      "text/plain": [
       "5×5 Matrix{Int64}:\n",
       " 0   0   0    0     0\n",
       " 1   1   1    1     1\n",
       " 2   4   8   16    32\n",
       " 3   9  27   81   243\n",
       " 4  16  64  256  1024"
      ]
     },
     "metadata": {},
     "output_type": "display_data"
    },
    {
     "data": {
      "text/plain": [
       "5×5 Matrix{Int64}:\n",
       " 0  1  2  3  4\n",
       " 1  2  3  4  0\n",
       " 2  3  4  0  1\n",
       " 3  4  0  1  2\n",
       " 4  0  1  2  3"
      ]
     },
     "metadata": {},
     "output_type": "display_data"
    },
    {
     "data": {
      "text/plain": [
       "10×10 Matrix{Int64}:\n",
       " 0  1  2  3  4  5  6  7  8  9\n",
       " 1  2  3  4  5  6  7  8  9  0\n",
       " 2  3  4  5  6  7  8  9  0  1\n",
       " 3  4  5  6  7  8  9  0  1  2\n",
       " 4  5  6  7  8  9  0  1  2  3\n",
       " 5  6  7  8  9  0  1  2  3  4\n",
       " 6  7  8  9  0  1  2  3  4  5\n",
       " 7  8  9  0  1  2  3  4  5  6\n",
       " 8  9  0  1  2  3  4  5  6  7\n",
       " 9  0  1  2  3  4  5  6  7  8"
      ]
     },
     "metadata": {},
     "output_type": "display_data"
    },
    {
     "data": {
      "text/plain": [
       "9×9 Matrix{Int64}:\n",
       " 0  8  7  6  5  4  3  2  1\n",
       " 1  0  8  7  6  5  4  3  2\n",
       " 2  1  0  8  7  6  5  4  3\n",
       " 3  2  1  0  8  7  6  5  4\n",
       " 4  3  2  1  0  8  7  6  5\n",
       " 5  4  3  2  1  0  8  7  6\n",
       " 6  5  4  3  2  1  0  8  7\n",
       " 7  6  5  4  3  2  1  0  8\n",
       " 8  7  6  5  4  3  2  1  0"
      ]
     },
     "metadata": {},
     "output_type": "display_data"
    }
   ],
   "source": [
    "n = 5\n",
    "A1 = Int64.(outer(hcat([[i//n for i in 0:n-1] for j in 1:n]...), hcat([[i//n for i in 0:n-1] for j in 1:n]...)', +))\n",
    "display(A1)\n",
    "t2 = hcat([[j-1 for i in 1:n] for j in 1:n]...)'\n",
    "A2 = Int64.(outer(t2, hcat([[i==j ? i : 1 for i in 1:n] for j in 1:n]...), ^))-hcat([[(n-1)*i for i in 0:n-1] for j in 1:n]...)\n",
    "display(A2)\n",
    "#=\n",
    "Матрицы A3 и A4 аналогичны по своей структуре первой матрице, единственное, \n",
    "чем они отличаются - каждый элемент теперь представлен остатком от деления\n",
    "его предыдущего значения на сторону матрицы \n",
    "=#\n",
    "t3 = outer(hcat([[i//n for i in 0:n-1] for j in 1:n]...), hcat([[i//n for i in 0:n-1] for j in 1:n]...)', +)\n",
    "A3 = Int64.(outer(t3, hcat([[i==j ? n/1 : 1.0 for i in 1:n] for j in 1:n]...), mod))\n",
    "display(A3)\n",
    "n = 10\n",
    "t4 = outer(hcat([[i//n for i in 0:n-1] for j in 1:n]...), hcat([[i//n for i in 0:n-1] for j in 1:n]...)', +)\n",
    "A4 = Int64.(outer(t4, hcat([[i==j ? n/1 : 1.0 for i in 1:n] for j in 1:n]...), mod)) # Остаток от деления на n\n",
    "display(A4)\n",
    "n = 9\n",
    "t5 = outer(hcat([[i==j-1 ? j-1 : 0 for i in 0:n-1] for j in 1:n]...), hcat([[i==j-1 ? (n-i) : 0 for i in 0:n-1] for j in 1:n]...)', +)\n",
    "A5 = Int64.(outer(round.(t5), hcat([[i==j ? n/1 : 1.0 for i in 1:n] for j in 1:n]...), mod)) # Остаток от деления на n\n",
    "display(A5)"
   ]
  },
  {
   "cell_type": "markdown",
   "id": "a3aaba67",
   "metadata": {},
   "source": [
    "#### 9. Решите следующую систему линейных уравнений с 5 неизвестными\n",
    "\n",
    "$$\n",
    "\\begin{cases}\n",
    "x_1 + 2x_2 + 3x_3 + 4x_4 + 5x_5 = 7, \\\\\n",
    "2x_1 + x_2 + 2x_3 + 3x_4 + 4x_5 = −1, \\\\\n",
    "3x_1 + 2x_2 + x_3 + 2x_4 + 3x_5 = −3, \\\\\n",
    "4x_1 + 3x_2 + 2x_3 + x_4 + 2x_5 = 5, \\\\\n",
    "5x_1 + 4x_2 + 3x_3 + 2x_4 + x_5 = 17,\n",
    "\\end{cases}\n",
    "$$\n",
    "\n",
    "рассмотрев соответствующее матричное уравнение $Ax = y$. Обратите внимание на особый вид матрицы $A$.\n",
    "Метод, используемый для решения данной системы уравнений, должен быть легко обобщаем на случай большего числа уравнений,\n",
    "где матрица $A$ будет иметь такую же структуру.\n",
    "\n",
    "Решение будет осуществлено методом Гаусса."
   ]
  },
  {
   "cell_type": "code",
   "execution_count": 89,
   "id": "72d433c4",
   "metadata": {},
   "outputs": [
    {
     "data": {
      "text/plain": [
       "gauss_method (generic function with 1 method)"
      ]
     },
     "execution_count": 89,
     "metadata": {},
     "output_type": "execute_result"
    }
   ],
   "source": [
    "function gauss_method(mtrx, vec)\n",
    "    if size(mtrx)[1] != size(mtrx)[2]\n",
    "        println(\"Size incompatability!\"), size(mtrx)[1] >= size(mtrx)[2] ? \"More\" : \"Less\", \"equations than value\"\n",
    "        return\n",
    "    end\n",
    "    if size(mtrx)[1] != size(vec)[1]\n",
    "        println(\"Size incompatability!\"), size(mtrx)[1] >= size(vec)[1] ? \"More\" : \"Less\", \"answers than equations\"\n",
    "        return\n",
    "    end\n",
    "    n = size(mtrx)[1]\n",
    "    max_el, max_row = 0, 0\n",
    "    for i in 1:n\n",
    "        max_el = abs(mtrx[i,i])\n",
    "        max_row = i\n",
    "        for k in i:n\n",
    "            if abs(mtrx[k,k]) > max_el\n",
    "                max_el = abs(mtrx[k,k])\n",
    "                max_row = k\n",
    "            end\n",
    "        end\n",
    "        mtrx[i,:], mtrx[max_row,:] = mtrx[max_row,:], mtrx[i,:]\n",
    "        vec[i], vec[max_row] = vec[max_row], vec[i]\n",
    "        \n",
    "        for k in i+1:n\n",
    "            c = -mtrx[k,i] / mtrx[i,i]\n",
    "            mtrx[k,:] = mtrx[k,:].+(c.*mtrx[i,:])\n",
    "            mtrx[k,i] = 0\n",
    "            vec[k] += c*vec[i]\n",
    "        end\n",
    "    end\n",
    "    answ = zeros(n)\n",
    "    for i in n:-1:1\n",
    "        answ[i] = vec[i] /  mtrx[i,i]\n",
    "        for k in i-1:-1:1\n",
    "            vec[k] -= mtrx[k,i]* answ[i]\n",
    "        end\n",
    "    end\n",
    "    return answ\n",
    "end"
   ]
  },
  {
   "cell_type": "code",
   "execution_count": 90,
   "id": "d3b563ef",
   "metadata": {},
   "outputs": [
    {
     "data": {
      "text/plain": [
       "5×5 Matrix{Int64}:\n",
       " 1  2  3  4  5\n",
       " 2  1  2  3  4\n",
       " 3  2  1  2  3\n",
       " 4  3  2  1  2\n",
       " 5  4  3  2  1"
      ]
     },
     "metadata": {},
     "output_type": "display_data"
    },
    {
     "data": {
      "text/plain": [
       "5-element Vector{Int64}:\n",
       "  7\n",
       " -1\n",
       " -3\n",
       "  5\n",
       " 17"
      ]
     },
     "metadata": {},
     "output_type": "display_data"
    },
    {
     "data": {
      "text/plain": [
       "5-element Vector{Float64}:\n",
       " -2.0\n",
       "  3.0\n",
       "  5.0\n",
       "  2.0\n",
       " -4.0"
      ]
     },
     "execution_count": 90,
     "metadata": {},
     "output_type": "execute_result"
    }
   ],
   "source": [
    "m = 5\n",
    "A = hcat([[abs(i-j)+1 for j in 1:m] for i in 1:m]...); display(A)\n",
    "y = [7, -1, -3, 5, 17]; display(y)\n",
    "x = gauss_method(A,y)"
   ]
  },
  {
   "cell_type": "markdown",
   "id": "cfd244bf",
   "metadata": {},
   "source": [
    "#### 10. Создайте матрицу $M$ размерности $6 \\times 10$, элементами которой являются целые числа, выбранные случайным образом с повторениями из совокупности $1, 2,\\dots, 10$."
   ]
  },
  {
   "cell_type": "code",
   "execution_count": 98,
   "id": "5f2459f3",
   "metadata": {},
   "outputs": [
    {
     "data": {
      "text/plain": [
       "6×10 Matrix{Int64}:\n",
       " 4   3   1  7  10  7  8  7  2  7\n",
       " 5   9   3  8   6  1  2  1  1  9\n",
       " 5   6   5  8   9  8  7  6  7  6\n",
       " 8   5  10  6   9  5  4  6  7  6\n",
       " 6   7   1  1   1  2  5  3  8  4\n",
       " 8  10   7  1  10  9  4  4  6  3"
      ]
     },
     "execution_count": 98,
     "metadata": {},
     "output_type": "execute_result"
    }
   ],
   "source": [
    "M = rand(1:10, 6, 10)"
   ]
  },
  {
   "cell_type": "markdown",
   "id": "80ef9f45",
   "metadata": {},
   "source": [
    "- Найдите число элементов в каждой строке матрицы $M$, которые больше числа $N$ (например, $N = 4$)."
   ]
  },
  {
   "cell_type": "code",
   "execution_count": 99,
   "id": "bc739523",
   "metadata": {},
   "outputs": [
    {
     "data": {
      "text/plain": [
       "6-element Vector{Int64}:\n",
       "  6\n",
       "  5\n",
       " 10\n",
       "  9\n",
       "  4\n",
       "  6"
      ]
     },
     "execution_count": 99,
     "metadata": {},
     "output_type": "execute_result"
    }
   ],
   "source": [
    "N = 4\n",
    "[size(findall(x -> x>N, M[i,:]))[1] for i in 1:6]"
   ]
  },
  {
   "cell_type": "markdown",
   "id": "07d9f484",
   "metadata": {},
   "source": [
    "- Определите, в каких строках матрицы $M$ число $T$ (например, $T = 7$) встречается ровно 2 раза?"
   ]
  },
  {
   "cell_type": "code",
   "execution_count": 100,
   "id": "330955ae",
   "metadata": {},
   "outputs": [
    {
     "data": {
      "text/plain": [
       "1-element Vector{Int64}:\n",
       " 3"
      ]
     },
     "execution_count": 100,
     "metadata": {},
     "output_type": "execute_result"
    }
   ],
   "source": [
    "T = 7\n",
    "findall(x -> x==2, [size(findall(x -> x==T, M[i,:]))[1] for i in 1:6])"
   ]
  },
  {
   "cell_type": "markdown",
   "id": "f596552b",
   "metadata": {},
   "source": [
    "- Определите все пары столбцов матрицы $M$, сумма элементов которых больше $K$ (например, $K = 75$)."
   ]
  },
  {
   "cell_type": "code",
   "execution_count": 102,
   "id": "6ad5143b",
   "metadata": {},
   "outputs": [
    {
     "data": {
      "text/plain": [
       "10-element Vector{CartesianIndex{2}}:\n",
       " CartesianIndex(2, 1)\n",
       " CartesianIndex(5, 1)\n",
       " CartesianIndex(1, 2)\n",
       " CartesianIndex(5, 2)\n",
       " CartesianIndex(5, 4)\n",
       " CartesianIndex(1, 5)\n",
       " CartesianIndex(2, 5)\n",
       " CartesianIndex(4, 5)\n",
       " CartesianIndex(6, 5)\n",
       " CartesianIndex(5, 6)"
      ]
     },
     "execution_count": 102,
     "metadata": {},
     "output_type": "execute_result"
    }
   ],
   "source": [
    "K = 75\n",
    "findall(x -> x>K, hcat([[i==j ? -1 : sum(M[:,i])+sum(M[:,j]) for j in 1:6] for i in 1:6]...))"
   ]
  },
  {
   "cell_type": "markdown",
   "id": "faebb28a",
   "metadata": {},
   "source": [
    "#### 11. Вычислите:\n",
    "\n",
    "- $$\\sum_{i=1}^{20} \\sum_{j=1}^{5} \\frac{i^4}{(3+j)}$$"
   ]
  },
  {
   "cell_type": "code",
   "execution_count": 103,
   "id": "b12a490f",
   "metadata": {},
   "outputs": [
    {
     "data": {
      "text/plain": [
       "1-element Vector{Float64}:\n",
       " 639215.2833333334"
      ]
     },
     "execution_count": 103,
     "metadata": {},
     "output_type": "execute_result"
    }
   ],
   "source": [
    "sum([sum([i^4/(3+j)] for j in 1:5) for i in 1:20])"
   ]
  },
  {
   "cell_type": "markdown",
   "id": "43910ffc",
   "metadata": {},
   "source": [
    "- $$\\sum_{i=1}^{20} \\sum_{j=1}^{5} \\frac{i^4}{(3+ij)}$$"
   ]
  },
  {
   "cell_type": "code",
   "execution_count": 104,
   "id": "50a24d04",
   "metadata": {},
   "outputs": [
    {
     "data": {
      "text/plain": [
       "1-element Vector{Float64}:\n",
       " 89912.02146097136"
      ]
     },
     "execution_count": 104,
     "metadata": {},
     "output_type": "execute_result"
    }
   ],
   "source": [
    "sum([sum([i^4/(3+i*j)] for j in 1:5) for i in 1:20])"
   ]
  },
  {
   "cell_type": "code",
   "execution_count": null,
   "id": "2d731ffe",
   "metadata": {},
   "outputs": [],
   "source": []
  }
 ],
 "metadata": {
  "kernelspec": {
   "display_name": "Julia 1.10.0",
   "language": "julia",
   "name": "julia-1.10"
  },
  "language_info": {
   "file_extension": ".jl",
   "mimetype": "application/julia",
   "name": "julia",
   "version": "1.10.0"
  }
 },
 "nbformat": 4,
 "nbformat_minor": 5
}
