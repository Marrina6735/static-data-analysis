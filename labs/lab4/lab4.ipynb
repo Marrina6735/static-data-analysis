{
 "cells": [
  {
   "cell_type": "markdown",
   "id": "23e08397-eb34-4fa4-91e3-7199f16f28cc",
   "metadata": {},
   "source": [
    "## Лабораторная работа № 4. Линейная алгебра"
   ]
  },
  {
   "cell_type": "markdown",
   "id": "e5decd7e-2ade-4e2d-aac4-512f414eb387",
   "metadata": {},
   "source": [
    "### Поэлементные операции над многомерными массивами"
   ]
  },
  {
   "cell_type": "code",
   "execution_count": 1,
   "id": "77087328-644a-4b09-9ed6-e0504c57d3c6",
   "metadata": {},
   "outputs": [
    {
     "data": {
      "text/plain": [
       "4×3 Matrix{Int64}:\n",
       " 17  10  17\n",
       "  1   3  11\n",
       " 11  10  12\n",
       "  8   9   4"
      ]
     },
     "execution_count": 1,
     "metadata": {},
     "output_type": "execute_result"
    }
   ],
   "source": [
    "# Массив 4x3 со случайными целыми числами (от 1 до 20):\n",
    "a = rand(1:20,(4,3))"
   ]
  },
  {
   "cell_type": "code",
   "execution_count": 2,
   "id": "ebab19ff-ddbd-46f9-b7a9-7b85b928c355",
   "metadata": {},
   "outputs": [
    {
     "data": {
      "text/plain": [
       "113"
      ]
     },
     "execution_count": 2,
     "metadata": {},
     "output_type": "execute_result"
    }
   ],
   "source": [
    "# Поэлементная сумма:\n",
    "sum(a)"
   ]
  },
  {
   "cell_type": "code",
   "execution_count": 3,
   "id": "2e512f7f-bd13-4540-aa95-117c5d19ef49",
   "metadata": {},
   "outputs": [
    {
     "data": {
      "text/plain": [
       "1×3 Matrix{Int64}:\n",
       " 37  32  44"
      ]
     },
     "execution_count": 3,
     "metadata": {},
     "output_type": "execute_result"
    }
   ],
   "source": [
    "# Поэлементная сумма по столбцам:\n",
    "sum(a,dims=1)"
   ]
  },
  {
   "cell_type": "code",
   "execution_count": 4,
   "id": "52f765bb-1bd2-4dc3-951b-294d84883b83",
   "metadata": {},
   "outputs": [
    {
     "data": {
      "text/plain": [
       "4×1 Matrix{Int64}:\n",
       " 44\n",
       " 15\n",
       " 33\n",
       " 21"
      ]
     },
     "execution_count": 4,
     "metadata": {},
     "output_type": "execute_result"
    }
   ],
   "source": [
    "# Поэлементная сумма по строкам:\n",
    "sum(a,dims=2)"
   ]
  },
  {
   "cell_type": "code",
   "execution_count": 5,
   "id": "086f00a7-76a0-4620-8a16-2d21d255883c",
   "metadata": {},
   "outputs": [
    {
     "data": {
      "text/plain": [
       "36255859200"
      ]
     },
     "execution_count": 5,
     "metadata": {},
     "output_type": "execute_result"
    }
   ],
   "source": [
    "# Поэлементное произведение:\n",
    "prod(a)"
   ]
  },
  {
   "cell_type": "code",
   "execution_count": 6,
   "id": "9b1bdd9f-8e1e-4aff-8258-0e5efb902500",
   "metadata": {},
   "outputs": [
    {
     "data": {
      "text/plain": [
       "1×3 Matrix{Int64}:\n",
       " 1496  2700  8976"
      ]
     },
     "execution_count": 6,
     "metadata": {},
     "output_type": "execute_result"
    }
   ],
   "source": [
    "# Поэлементное произведение по столбцам:\n",
    "prod(a,dims=1)"
   ]
  },
  {
   "cell_type": "code",
   "execution_count": 7,
   "id": "3b152583-1a67-4433-a32a-eaf9743f3873",
   "metadata": {},
   "outputs": [
    {
     "data": {
      "text/plain": [
       "4×1 Matrix{Int64}:\n",
       " 2890\n",
       "   33\n",
       " 1320\n",
       "  288"
      ]
     },
     "execution_count": 7,
     "metadata": {},
     "output_type": "execute_result"
    }
   ],
   "source": [
    "# Поэлементное произведение по строкам:\n",
    "prod(a,dims=2)"
   ]
  },
  {
   "cell_type": "code",
   "execution_count": 8,
   "id": "cf9ea668-d134-459c-a255-79adfa5ca2db",
   "metadata": {},
   "outputs": [
    {
     "name": "stderr",
     "output_type": "stream",
     "text": [
      "\u001b[32m\u001b[1m    Updating\u001b[22m\u001b[39m registry at `C:\\Users\\User\\.julia\\registries\\General.toml`\n",
      "\u001b[32m\u001b[1m   Resolving\u001b[22m\u001b[39m package versions...\n",
      "\u001b[32m\u001b[1m    Updating\u001b[22m\u001b[39m `C:\\Users\\User\\.julia\\environments\\v1.10\\Project.toml`\n",
      "  \u001b[90m[10745b16] \u001b[39m\u001b[92m+ Statistics v1.10.0\u001b[39m\n",
      "\u001b[32m\u001b[1m  No Changes\u001b[22m\u001b[39m to `C:\\Users\\User\\.julia\\environments\\v1.10\\Manifest.toml`\n"
     ]
    }
   ],
   "source": [
    "import Pkg\n",
    "Pkg.add(\"Statistics\")"
   ]
  },
  {
   "cell_type": "code",
   "execution_count": 9,
   "id": "57ead5eb-30ea-44a8-98d3-3697f911a27b",
   "metadata": {},
   "outputs": [
    {
     "data": {
      "text/plain": [
       "9.416666666666666"
      ]
     },
     "execution_count": 9,
     "metadata": {},
     "output_type": "execute_result"
    }
   ],
   "source": [
    "using Statistics\n",
    "# Вычисление среднего значения массива:\n",
    "mean(a)"
   ]
  },
  {
   "cell_type": "code",
   "execution_count": 10,
   "id": "9a5849f1-d794-40e9-92d5-cff1b053837b",
   "metadata": {},
   "outputs": [
    {
     "data": {
      "text/plain": [
       "1×3 Matrix{Float64}:\n",
       " 9.25  8.0  11.0"
      ]
     },
     "execution_count": 10,
     "metadata": {},
     "output_type": "execute_result"
    }
   ],
   "source": [
    "# Среднее по столбцам:\n",
    "mean(a,dims=1)"
   ]
  },
  {
   "cell_type": "code",
   "execution_count": 11,
   "id": "609f7248-2c18-411d-83be-653be2061827",
   "metadata": {},
   "outputs": [
    {
     "data": {
      "text/plain": [
       "4×1 Matrix{Float64}:\n",
       " 14.666666666666666\n",
       "  5.0\n",
       " 11.0\n",
       "  7.0"
      ]
     },
     "execution_count": 11,
     "metadata": {},
     "output_type": "execute_result"
    }
   ],
   "source": [
    "# Среднее по строкам:\n",
    "mean(a,dims=2)"
   ]
  },
  {
   "cell_type": "markdown",
   "id": "7d75fe4b-9299-475d-9845-afe343eb2a3b",
   "metadata": {},
   "source": [
    "### Транспонирование, след, ранг, определитель и инверсия матрицы"
   ]
  },
  {
   "cell_type": "code",
   "execution_count": 12,
   "id": "bb9fc853-474b-4a07-9851-621ec7b43343",
   "metadata": {},
   "outputs": [
    {
     "name": "stderr",
     "output_type": "stream",
     "text": [
      "\u001b[32m\u001b[1m   Resolving\u001b[22m\u001b[39m package versions...\n",
      "\u001b[32m\u001b[1m    Updating\u001b[22m\u001b[39m `C:\\Users\\User\\.julia\\environments\\v1.10\\Project.toml`\n",
      "  \u001b[90m[37e2e46d] \u001b[39m\u001b[92m+ LinearAlgebra\u001b[39m\n",
      "\u001b[32m\u001b[1m  No Changes\u001b[22m\u001b[39m to `C:\\Users\\User\\.julia\\environments\\v1.10\\Manifest.toml`\n"
     ]
    }
   ],
   "source": [
    "# Подключение пакета LinearAlgebra:\n",
    "import Pkg\n",
    "Pkg.add(\"LinearAlgebra\")\n",
    "using LinearAlgebra"
   ]
  },
  {
   "cell_type": "code",
   "execution_count": 13,
   "id": "46f42981-454c-4ad7-8b7c-6e9ebfcca5c3",
   "metadata": {},
   "outputs": [
    {
     "data": {
      "text/plain": [
       "4×4 Matrix{Int64}:\n",
       "  7  13  19   6\n",
       " 16  15  14  12\n",
       "  1  12  11  14\n",
       " 19   4   2  12"
      ]
     },
     "execution_count": 13,
     "metadata": {},
     "output_type": "execute_result"
    }
   ],
   "source": [
    "# Массив 4x4 со случайными целыми числами (от 1 до 20):\n",
    "b = rand(1:20,(4,4))"
   ]
  },
  {
   "cell_type": "code",
   "execution_count": 14,
   "id": "e4833f9f-8634-4bb8-81df-b942eb2f0390",
   "metadata": {},
   "outputs": [
    {
     "data": {
      "text/plain": [
       "4×4 transpose(::Matrix{Int64}) with eltype Int64:\n",
       "  7  16   1  19\n",
       " 13  15  12   4\n",
       " 19  14  11   2\n",
       "  6  12  14  12"
      ]
     },
     "execution_count": 14,
     "metadata": {},
     "output_type": "execute_result"
    }
   ],
   "source": [
    "# Транспонирование:\n",
    "transpose(b)"
   ]
  },
  {
   "cell_type": "code",
   "execution_count": 15,
   "id": "4dbf4742-ead4-4ac7-9adc-c6031f5dfb35",
   "metadata": {},
   "outputs": [
    {
     "data": {
      "text/plain": [
       "45"
      ]
     },
     "execution_count": 15,
     "metadata": {},
     "output_type": "execute_result"
    }
   ],
   "source": [
    "# След матрицы (сумма диагональных элементов):\n",
    "tr(b)"
   ]
  },
  {
   "cell_type": "code",
   "execution_count": 16,
   "id": "e9e384d9-a34f-4497-ae61-9d80459cf9b4",
   "metadata": {},
   "outputs": [
    {
     "data": {
      "text/plain": [
       "4-element Vector{Int64}:\n",
       "  7\n",
       " 15\n",
       " 11\n",
       " 12"
      ]
     },
     "execution_count": 16,
     "metadata": {},
     "output_type": "execute_result"
    }
   ],
   "source": [
    "# Извлечение диагональных элементов как массив:\n",
    "diag(b)"
   ]
  },
  {
   "cell_type": "code",
   "execution_count": 17,
   "id": "f0b58387-7f80-41ab-a989-51c893e3abf3",
   "metadata": {},
   "outputs": [
    {
     "data": {
      "text/plain": [
       "4"
      ]
     },
     "execution_count": 17,
     "metadata": {},
     "output_type": "execute_result"
    }
   ],
   "source": [
    "# Ранг матрицы:\n",
    "rank(b)"
   ]
  },
  {
   "cell_type": "code",
   "execution_count": 18,
   "id": "cb8921b8-e10e-4025-8f18-f79a72561fb3",
   "metadata": {},
   "outputs": [
    {
     "data": {
      "text/plain": [
       "4×4 Matrix{Float64}:\n",
       "  0.00578035   0.0289017  -0.0520231    0.0289017\n",
       " -0.179716     0.283237   -0.0189175   -0.171308\n",
       "  0.166185    -0.169075    0.00433526   0.0809249\n",
       "  0.0230557   -0.111994    0.0879532    0.0811876"
      ]
     },
     "execution_count": 18,
     "metadata": {},
     "output_type": "execute_result"
    }
   ],
   "source": [
    "# Инверсия матрицы (определение обратной матрицы):\n",
    "inv(b)"
   ]
  },
  {
   "cell_type": "code",
   "execution_count": 19,
   "id": "4a45f785-d529-4c4f-96a2-9503afd559ae",
   "metadata": {},
   "outputs": [
    {
     "data": {
      "text/plain": [
       "15224.000000000002"
      ]
     },
     "execution_count": 19,
     "metadata": {},
     "output_type": "execute_result"
    }
   ],
   "source": [
    "# Определитель матрицы:\n",
    "det(b)"
   ]
  },
  {
   "cell_type": "code",
   "execution_count": 20,
   "id": "e0538871-0244-47f0-9892-2933012ff71c",
   "metadata": {},
   "outputs": [
    {
     "data": {
      "text/plain": [
       "3×4 Matrix{Float64}:\n",
       "  0.108197   -0.114931   -0.0327538   -0.0455152\n",
       " -0.117346    0.0514163   0.0703955    0.14614\n",
       "  0.0156561   0.0804726   0.00337855  -0.0479738"
      ]
     },
     "execution_count": 20,
     "metadata": {},
     "output_type": "execute_result"
    }
   ],
   "source": [
    "# Псевдобратная функция для прямоугольных матриц:\n",
    "pinv(a)"
   ]
  },
  {
   "cell_type": "markdown",
   "id": "12e30fbe-aeac-44ac-b62a-fff4feb8e620",
   "metadata": {},
   "source": [
    "### Вычисление нормы векторов и матриц, повороты, вращения"
   ]
  },
  {
   "cell_type": "code",
   "execution_count": 21,
   "id": "92da08b2-9382-49b3-82d3-772a32f6759c",
   "metadata": {},
   "outputs": [
    {
     "data": {
      "text/plain": [
       "3-element Vector{Int64}:\n",
       "  2\n",
       "  4\n",
       " -5"
      ]
     },
     "execution_count": 21,
     "metadata": {},
     "output_type": "execute_result"
    }
   ],
   "source": [
    "# Создание вектора X:\n",
    "X = [2, 4, -5]"
   ]
  },
  {
   "cell_type": "code",
   "execution_count": 22,
   "id": "0543b46a-0a98-4be4-9743-d7ebceff73f9",
   "metadata": {},
   "outputs": [
    {
     "data": {
      "text/plain": [
       "6.708203932499369"
      ]
     },
     "execution_count": 22,
     "metadata": {},
     "output_type": "execute_result"
    }
   ],
   "source": [
    "# Вычисление евклидовой нормы:\n",
    "norm(X)"
   ]
  },
  {
   "cell_type": "code",
   "execution_count": 23,
   "id": "bb99cc55-a6a9-412e-9ebd-67e8f8980698",
   "metadata": {},
   "outputs": [
    {
     "data": {
      "text/plain": [
       "11.0"
      ]
     },
     "execution_count": 23,
     "metadata": {},
     "output_type": "execute_result"
    }
   ],
   "source": [
    "# Вычисление p-нормы:\n",
    "p = 1\n",
    "norm(X,p)"
   ]
  },
  {
   "cell_type": "code",
   "execution_count": 24,
   "id": "d9ae84c1-b722-4316-98f1-28956da0fec3",
   "metadata": {},
   "outputs": [
    {
     "data": {
      "text/plain": [
       "9.486832980505138"
      ]
     },
     "execution_count": 24,
     "metadata": {},
     "output_type": "execute_result"
    }
   ],
   "source": [
    "# Расстояние между двумя векторами X и Y:\n",
    "X = [2, 4, -5]\n",
    "Y = [1,-1,3]\n",
    "norm(X-Y)"
   ]
  },
  {
   "cell_type": "code",
   "execution_count": 25,
   "id": "e7aad529-cda4-4c39-b915-19850b36812b",
   "metadata": {},
   "outputs": [
    {
     "data": {
      "text/plain": [
       "9.486832980505138"
      ]
     },
     "execution_count": 25,
     "metadata": {},
     "output_type": "execute_result"
    }
   ],
   "source": [
    "# Проверка по базовому определению:\n",
    "sqrt(sum((X-Y).^2))"
   ]
  },
  {
   "cell_type": "code",
   "execution_count": 26,
   "id": "c9e136dd-209c-4b56-a685-4cc2172c8613",
   "metadata": {},
   "outputs": [
    {
     "data": {
      "text/plain": [
       "2.4404307889469252"
      ]
     },
     "execution_count": 26,
     "metadata": {},
     "output_type": "execute_result"
    }
   ],
   "source": [
    "# Угол между двумя векторами:\n",
    "acos((transpose(X)*Y)/(norm(X)*norm(Y)))"
   ]
  },
  {
   "cell_type": "code",
   "execution_count": 27,
   "id": "2d0d69db-73bb-4411-9d03-0bb7180a9ff9",
   "metadata": {},
   "outputs": [
    {
     "data": {
      "text/plain": [
       "3×3 Matrix{Int64}:\n",
       "  5  -4  2\n",
       " -1   2  3\n",
       " -2   1  0"
      ]
     },
     "execution_count": 27,
     "metadata": {},
     "output_type": "execute_result"
    }
   ],
   "source": [
    "# Создание матрицы:\n",
    "d = [5 -4 2 ; -1 2 3; -2 1 0]"
   ]
  },
  {
   "cell_type": "code",
   "execution_count": 28,
   "id": "7852c51d-341f-4ab6-8da6-dd88e2167c7a",
   "metadata": {},
   "outputs": [
    {
     "data": {
      "text/plain": [
       "7.147682841795258"
      ]
     },
     "execution_count": 28,
     "metadata": {},
     "output_type": "execute_result"
    }
   ],
   "source": [
    "# Вычисление Евклидовой нормы:\n",
    "opnorm(d)"
   ]
  },
  {
   "cell_type": "code",
   "execution_count": 29,
   "id": "c6f2e1a4-a098-4f4e-9205-7015bbdda1a3",
   "metadata": {},
   "outputs": [
    {
     "data": {
      "text/plain": [
       "8.0"
      ]
     },
     "execution_count": 29,
     "metadata": {},
     "output_type": "execute_result"
    }
   ],
   "source": [
    "# Вычисление p-нормы:\n",
    "p=1\n",
    "opnorm(d,p)"
   ]
  },
  {
   "cell_type": "code",
   "execution_count": 30,
   "id": "c1631d1b-8640-44b6-b5f0-60933bc1b390",
   "metadata": {},
   "outputs": [
    {
     "data": {
      "text/plain": [
       "3×3 Matrix{Int64}:\n",
       " 0   1  -2\n",
       " 3   2  -1\n",
       " 2  -4   5"
      ]
     },
     "execution_count": 30,
     "metadata": {},
     "output_type": "execute_result"
    }
   ],
   "source": [
    "# Поворот на 180 градусов:\n",
    "rot180(d)"
   ]
  },
  {
   "cell_type": "code",
   "execution_count": 31,
   "id": "b99e7917-e488-4cdd-84c5-1b1bb30de5a5",
   "metadata": {},
   "outputs": [
    {
     "data": {
      "text/plain": [
       "3×3 Matrix{Int64}:\n",
       " -2   1  0\n",
       " -1   2  3\n",
       "  5  -4  2"
      ]
     },
     "execution_count": 31,
     "metadata": {},
     "output_type": "execute_result"
    }
   ],
   "source": [
    "# Переворачивание строк:\n",
    "reverse(d,dims=1)"
   ]
  },
  {
   "cell_type": "code",
   "execution_count": 32,
   "id": "6997e9bd-4c6b-4c32-81c3-b0c2df37b017",
   "metadata": {},
   "outputs": [
    {
     "data": {
      "text/plain": [
       "3×3 Matrix{Int64}:\n",
       " 2  -4   5\n",
       " 3   2  -1\n",
       " 0   1  -2"
      ]
     },
     "execution_count": 32,
     "metadata": {},
     "output_type": "execute_result"
    }
   ],
   "source": [
    "# Переворачивание столбцов\n",
    "reverse(d,dims=2)"
   ]
  },
  {
   "cell_type": "markdown",
   "id": "e03452ed-f55e-4ed9-913f-8d56b19db6e1",
   "metadata": {},
   "source": [
    "### Матричное умножение, единичная матрица, скалярное произведение"
   ]
  },
  {
   "cell_type": "code",
   "execution_count": 34,
   "id": "ef7e1e3f-339d-4dfe-9ec8-94e754a56913",
   "metadata": {},
   "outputs": [
    {
     "name": "stdout",
     "output_type": "stream",
     "text": [
      "[4 6 8; 7 4 4][4 9 10 7; 5 5 8 4; 5 10 10 8]"
     ]
    }
   ],
   "source": [
    "# Матрица 2x3 со случайными целыми значениями от 1 до 10:\n",
    "A = rand(1:10,(2,3))\n",
    "# Матрица 3x4 со случайными целыми значениями от 1 до 10:\n",
    "B = rand(1:10,(3,4))\n",
    "\n",
    "print(A)\n",
    "print()\n",
    "print(B)"
   ]
  },
  {
   "cell_type": "code",
   "execution_count": 35,
   "id": "8f923078-a8c2-47bd-bb84-07263f0793de",
   "metadata": {},
   "outputs": [
    {
     "data": {
      "text/plain": [
       "2×4 Matrix{Int64}:\n",
       " 86  146  168  116\n",
       " 68  123  142   97"
      ]
     },
     "execution_count": 35,
     "metadata": {},
     "output_type": "execute_result"
    }
   ],
   "source": [
    "# Произведение матриц A и B:\n",
    "A*B"
   ]
  },
  {
   "cell_type": "code",
   "execution_count": 36,
   "id": "5abdd5b8-937b-474d-8a5d-b7452e60ac70",
   "metadata": {},
   "outputs": [
    {
     "data": {
      "text/plain": [
       "3×3 Matrix{Int64}:\n",
       " 1  0  0\n",
       " 0  1  0\n",
       " 0  0  1"
      ]
     },
     "execution_count": 36,
     "metadata": {},
     "output_type": "execute_result"
    }
   ],
   "source": [
    "# Единичная матрица 3x3:\n",
    "Matrix{Int}(I, 3, 3)"
   ]
  },
  {
   "cell_type": "code",
   "execution_count": 37,
   "id": "58677856-9c5a-4a9a-ad33-e917894c8a7e",
   "metadata": {},
   "outputs": [
    {
     "data": {
      "text/plain": [
       "-17"
      ]
     },
     "execution_count": 37,
     "metadata": {},
     "output_type": "execute_result"
    }
   ],
   "source": [
    "# Скалярное произведение векторов X и Y:\n",
    "X = [2, 4, -5]\n",
    "Y = [1,-1,3]\n",
    "dot(X,Y)"
   ]
  },
  {
   "cell_type": "code",
   "execution_count": 38,
   "id": "52719466-986e-4fa5-be8e-16a502f55b25",
   "metadata": {},
   "outputs": [
    {
     "data": {
      "text/plain": [
       "-17"
      ]
     },
     "execution_count": 38,
     "metadata": {},
     "output_type": "execute_result"
    }
   ],
   "source": [
    "# тоже скалярное произведение:\n",
    "X'Y"
   ]
  },
  {
   "cell_type": "markdown",
   "id": "bb186f7d-97fe-4789-89b9-072e6c29732e",
   "metadata": {},
   "source": [
    "### Факторизация. Специальные матричные структуры"
   ]
  },
  {
   "cell_type": "code",
   "execution_count": 72,
   "id": "0d8f9f33-e99a-41d2-bb11-5457b1e51922",
   "metadata": {},
   "outputs": [
    {
     "data": {
      "text/plain": [
       "3×3 Matrix{Float64}:\n",
       " 0.323776  0.766627  0.346568\n",
       " 0.82158   0.154756  0.212603\n",
       " 0.089916  0.231533  0.572396"
      ]
     },
     "execution_count": 72,
     "metadata": {},
     "output_type": "execute_result"
    }
   ],
   "source": [
    "# Задаём квадратную матрицу 3x3 со случайными значениями:\n",
    "A = rand(3, 3)"
   ]
  },
  {
   "cell_type": "code",
   "execution_count": 73,
   "id": "9e08a924-cf46-441f-966c-a3a1fe883b1c",
   "metadata": {},
   "outputs": [
    {
     "data": {
      "text/plain": [
       "3-element Vector{Float64}:\n",
       " 1.0\n",
       " 1.0\n",
       " 1.0"
      ]
     },
     "execution_count": 73,
     "metadata": {},
     "output_type": "execute_result"
    }
   ],
   "source": [
    "# Задаём единичный вектор:\n",
    "x = fill(1.0, 3)"
   ]
  },
  {
   "cell_type": "code",
   "execution_count": 74,
   "id": "b86db0b7-c3db-425c-9fb1-b59bcefcd10e",
   "metadata": {},
   "outputs": [
    {
     "data": {
      "text/plain": [
       "3-element Vector{Float64}:\n",
       " 1.4369700554357259\n",
       " 1.1889391623864485\n",
       " 0.8938450054376931"
      ]
     },
     "execution_count": 74,
     "metadata": {},
     "output_type": "execute_result"
    }
   ],
   "source": [
    "# Задаём вектор b:\n",
    "b = A*x"
   ]
  },
  {
   "cell_type": "code",
   "execution_count": 75,
   "id": "940a3614-9a11-4d46-80c4-bfb54763828e",
   "metadata": {},
   "outputs": [
    {
     "data": {
      "text/plain": [
       "3-element Vector{Float64}:\n",
       " 1.0\n",
       " 1.0\n",
       " 1.0"
      ]
     },
     "execution_count": 75,
     "metadata": {},
     "output_type": "execute_result"
    }
   ],
   "source": [
    "# Решение исходного уравнения получаем с помощью функции \\\n",
    "# (убеждаемся, что x - единичный вектор):\n",
    "A\\b"
   ]
  },
  {
   "cell_type": "code",
   "execution_count": 76,
   "id": "34082a0c-5198-4cfd-8092-d7fcba101383",
   "metadata": {},
   "outputs": [
    {
     "data": {
      "text/plain": [
       "LU{Float64, Matrix{Float64}, Vector{Int64}}\n",
       "L factor:\n",
       "3×3 Matrix{Float64}:\n",
       " 1.0       0.0       0.0\n",
       " 0.394089  1.0       0.0\n",
       " 0.109443  0.304115  1.0\n",
       "U factor:\n",
       "3×3 Matrix{Float64}:\n",
       " 0.82158  0.154756  0.212603\n",
       " 0.0      0.705639  0.262783\n",
       " 0.0      0.0       0.469212"
      ]
     },
     "execution_count": 76,
     "metadata": {},
     "output_type": "execute_result"
    }
   ],
   "source": [
    "# LU-факторизация:\n",
    "Alu = lu(A)"
   ]
  },
  {
   "cell_type": "code",
   "execution_count": 79,
   "id": "75ec1ac7-a915-42e7-ae30-d296c327ece9",
   "metadata": {},
   "outputs": [
    {
     "data": {
      "text/plain": [
       "3-element Vector{Float64}:\n",
       " 1.0\n",
       " 1.0\n",
       " 1.0"
      ]
     },
     "execution_count": 79,
     "metadata": {},
     "output_type": "execute_result"
    }
   ],
   "source": [
    "# Решение СЛАУ через матрицу A:\n",
    "A\\b"
   ]
  },
  {
   "cell_type": "code",
   "execution_count": 80,
   "id": "631be58a-3591-4769-8892-ea67428d5737",
   "metadata": {},
   "outputs": [
    {
     "data": {
      "text/plain": [
       "3-element Vector{Float64}:\n",
       " 1.0\n",
       " 1.0\n",
       " 1.0"
      ]
     },
     "execution_count": 80,
     "metadata": {},
     "output_type": "execute_result"
    }
   ],
   "source": [
    "# Решение СЛАУ через объект факторизации:\n",
    "Alu\\b"
   ]
  },
  {
   "cell_type": "code",
   "execution_count": 81,
   "id": "54de8a67-0828-4c36-bf49-1b3e2836c913",
   "metadata": {},
   "outputs": [
    {
     "data": {
      "text/plain": [
       "-0.2720205154988499"
      ]
     },
     "execution_count": 81,
     "metadata": {},
     "output_type": "execute_result"
    }
   ],
   "source": [
    "# Детерминант матрицы A:\n",
    "det(A)"
   ]
  },
  {
   "cell_type": "code",
   "execution_count": 82,
   "id": "ef6ca1cd-0424-4d9a-aa52-ad32b5976fbb",
   "metadata": {},
   "outputs": [
    {
     "data": {
      "text/plain": [
       "-0.2720205154988499"
      ]
     },
     "execution_count": 82,
     "metadata": {},
     "output_type": "execute_result"
    }
   ],
   "source": [
    "# Детерминант матрицы A через объект факторизации:\n",
    "det(Alu)"
   ]
  },
  {
   "cell_type": "code",
   "execution_count": 83,
   "id": "11751022-2df6-465b-a92c-1f39a1d9d98a",
   "metadata": {},
   "outputs": [
    {
     "data": {
      "text/plain": [
       "LinearAlgebra.QRCompactWY{Float64, Matrix{Float64}, Matrix{Float64}}\n",
       "Q factor: 3×3 LinearAlgebra.QRCompactWYQ{Float64, Matrix{Float64}, Matrix{Float64}}\n",
       "R factor:\n",
       "3×3 Matrix{Float64}:\n",
       " -0.887643  -0.446326  -0.381176\n",
       "  0.0        0.682691   0.382295\n",
       "  0.0        0.0        0.44889"
      ]
     },
     "execution_count": 83,
     "metadata": {},
     "output_type": "execute_result"
    }
   ],
   "source": [
    "# QR-факторизация:\n",
    "Aqr = qr(A)"
   ]
  },
  {
   "cell_type": "code",
   "execution_count": 84,
   "id": "792ccb2f-957b-4cdd-81ac-4538466cc78f",
   "metadata": {},
   "outputs": [
    {
     "data": {
      "text/plain": [
       "3×3 LinearAlgebra.QRCompactWYQ{Float64, Matrix{Float64}, Matrix{Float64}}"
      ]
     },
     "execution_count": 84,
     "metadata": {},
     "output_type": "execute_result"
    }
   ],
   "source": [
    "# Матрица Q:\n",
    "Aqr.Q"
   ]
  },
  {
   "cell_type": "code",
   "execution_count": 65,
   "id": "1da2eb8b-9aac-4c16-ac1e-05bcc4552b2e",
   "metadata": {},
   "outputs": [
    {
     "data": {
      "text/plain": [
       "3×3 Matrix{Float64}:\n",
       " -0.884374  -0.455329  -0.264604\n",
       "  0.0       -0.792468  -0.521473\n",
       "  0.0        0.0        0.462976"
      ]
     },
     "execution_count": 65,
     "metadata": {},
     "output_type": "execute_result"
    }
   ],
   "source": [
    "# Матрица R:\n",
    "Aqr.R"
   ]
  },
  {
   "cell_type": "code",
   "execution_count": 66,
   "id": "67a994c7-ddea-466b-9ec7-320d2068066e",
   "metadata": {},
   "outputs": [
    {
     "data": {
      "text/plain": [
       "3×3 Matrix{Float64}:\n",
       "  1.0          -2.77556e-17  -1.38778e-17\n",
       " -5.55112e-17   1.0           0.0\n",
       "  0.0           0.0           1.0"
      ]
     },
     "execution_count": 66,
     "metadata": {},
     "output_type": "execute_result"
    }
   ],
   "source": [
    "# Проверка, что матрица Q - ортогональная:\n",
    "Aqr.Q'*Aqr.Q"
   ]
  },
  {
   "cell_type": "code",
   "execution_count": 67,
   "id": "748842f8-25a1-4d9c-81ec-cce9a576efa2",
   "metadata": {},
   "outputs": [
    {
     "data": {
      "text/plain": [
       "3×3 Matrix{Float64}:\n",
       " 1.74614   0.464061  0.211887\n",
       " 0.464061  1.7004    0.570514\n",
       " 0.211887  0.570514  0.929872"
      ]
     },
     "execution_count": 67,
     "metadata": {},
     "output_type": "execute_result"
    }
   ],
   "source": [
    "# Симметризация матрицы A:\n",
    "Asym = A + A'"
   ]
  },
  {
   "cell_type": "code",
   "execution_count": 68,
   "id": "93dcd4f7-d497-44a6-a0d2-ce3adba468a0",
   "metadata": {},
   "outputs": [
    {
     "data": {
      "text/plain": [
       "Eigen{Float64, Float64, Matrix{Float64}, Vector{Float64}}\n",
       "values:\n",
       "3-element Vector{Float64}:\n",
       " 0.6257132275305365\n",
       " 1.3504140615067672\n",
       " 2.4002822908619654\n",
       "vectors:\n",
       "3×3 Matrix{Float64}:\n",
       "  0.0328487   0.788192  -0.614552\n",
       " -0.479667   -0.52701   -0.701555\n",
       "  0.876835   -0.317825  -0.360758"
      ]
     },
     "execution_count": 68,
     "metadata": {},
     "output_type": "execute_result"
    }
   ],
   "source": [
    "# Спектральное разложение симметризованной матрицы:\n",
    "AsymEig = eigen(Asym)"
   ]
  },
  {
   "cell_type": "code",
   "execution_count": 69,
   "id": "0444cab4-9c61-4a48-afb4-04eab9edc263",
   "metadata": {},
   "outputs": [
    {
     "data": {
      "text/plain": [
       "3-element Vector{Float64}:\n",
       " 0.6257132275305365\n",
       " 1.3504140615067672\n",
       " 2.4002822908619654"
      ]
     },
     "execution_count": 69,
     "metadata": {},
     "output_type": "execute_result"
    }
   ],
   "source": [
    "# Собственные значения:\n",
    "AsymEig.values"
   ]
  },
  {
   "cell_type": "code",
   "execution_count": 70,
   "id": "cff3927d-618d-45a0-88ef-449de9d21b9d",
   "metadata": {},
   "outputs": [
    {
     "data": {
      "text/plain": [
       "3×3 Matrix{Float64}:\n",
       "  0.0328487   0.788192  -0.614552\n",
       " -0.479667   -0.52701   -0.701555\n",
       "  0.876835   -0.317825  -0.360758"
      ]
     },
     "execution_count": 70,
     "metadata": {},
     "output_type": "execute_result"
    }
   ],
   "source": [
    "#Собственные векторы:\n",
    "AsymEig.vectors"
   ]
  },
  {
   "cell_type": "code",
   "execution_count": 71,
   "id": "86aa1463-9f84-4838-9e31-14129d735716",
   "metadata": {},
   "outputs": [
    {
     "data": {
      "text/plain": [
       "3×3 Matrix{Float64}:\n",
       "  1.0          -4.51028e-17   4.09395e-16\n",
       " -6.93889e-17   1.0          -1.11022e-16\n",
       "  9.99201e-16   1.11022e-16   1.0"
      ]
     },
     "execution_count": 71,
     "metadata": {},
     "output_type": "execute_result"
    }
   ],
   "source": [
    "# Проверяем, что получится единичная матрица:\n",
    "inv(AsymEig)*Asym"
   ]
  },
  {
   "cell_type": "code",
   "execution_count": 85,
   "id": "1ae261cd-82ba-4baa-a29d-bbebd52f0433",
   "metadata": {},
   "outputs": [
    {
     "data": {
      "text/plain": [
       "1000×1000 Matrix{Float64}:\n",
       "  0.945564   -0.4136      0.288745   …  -0.0576756   -1.29635   -1.55455\n",
       " -0.733987   -0.0813476  -1.8088         0.00406874  -0.146778  -0.543025\n",
       "  0.416595    0.215597    1.72953        2.10461      2.27       0.493712\n",
       " -1.17069    -1.28196     0.172427      -0.281696     0.113201   0.402691\n",
       " -0.534953   -0.454402   -0.0904224      0.737858     0.374288   1.03684\n",
       " -0.730627    0.79689     0.552524   …  -0.205875     1.10018   -0.537194\n",
       " -0.0978003  -0.556665    0.477047      -1.486       -0.628359  -0.915956\n",
       "  0.562794   -1.07607    -0.526134       0.217834     1.1874    -0.744079\n",
       "  0.585691    0.901834    0.0827245      1.53281      0.17808   -0.185429\n",
       " -0.546395    0.0415964  -0.736421       0.566128    -0.838803   0.172493\n",
       "  0.413408    0.344019   -0.731707   …  -0.139578     1.23046   -0.406932\n",
       " -0.559737   -0.124365   -0.153766       2.37222      1.8644     0.234218\n",
       "  2.64962    -0.339176    1.10631        1.39374      0.525698  -0.482248\n",
       "  ⋮                                  ⋱                          \n",
       "  1.15559    -1.46166    -1.49758       -0.585228    -1.92706   -0.161073\n",
       " -1.14017     0.672569    1.92851       -0.064009     0.101601   0.308163\n",
       "  0.23013     1.43359     1.09088    …   1.47976      2.01193   -1.21324\n",
       " -0.456641   -0.34784    -1.69538        0.216645    -0.678083   0.237115\n",
       "  0.557833    1.06935     0.690091      -0.104601    -0.676934   2.56679\n",
       " -0.0322185  -0.415773    0.477601      -1.52515      0.624246  -0.660277\n",
       " -0.810073    0.906215    0.130511       1.3033      -0.350364  -0.445778\n",
       " -1.39737    -0.0498869  -1.29807    …  -0.125225    -1.98868   -0.57905\n",
       " -0.489871   -1.03055    -0.382777      -0.408173     0.166898   2.47756\n",
       "  2.38396     0.108788    0.98079       -1.67812     -1.18574    2.19278\n",
       "  0.407764    0.613379    0.673965      -0.99283     -0.817734  -0.661687\n",
       " -1.19675    -0.097588    0.516592       0.694347     1.05551    0.146226"
      ]
     },
     "execution_count": 85,
     "metadata": {},
     "output_type": "execute_result"
    }
   ],
   "source": [
    "# Матрица 1000 х 1000:\n",
    "n = 1000\n",
    "A = randn(n,n)"
   ]
  },
  {
   "cell_type": "code",
   "execution_count": 86,
   "id": "c28544e1-edc0-4673-a531-f0c0c831d07c",
   "metadata": {},
   "outputs": [
    {
     "data": {
      "text/plain": [
       "1000×1000 Matrix{Float64}:\n",
       "  1.89113    -1.14759     0.705339  …   2.32628    -0.888584  -2.7513\n",
       " -1.14759    -0.162695   -1.59321       0.112857    0.466601  -0.640613\n",
       "  0.705339   -1.59321     3.45905       3.0854      2.94397    1.0103\n",
       " -1.95993    -1.60121    -0.690125     -0.234089    1.40913    0.396142\n",
       " -1.10852     1.63509    -0.371592      1.63391     1.63206    1.65072\n",
       " -0.598721    0.935986    0.537715  …  -0.363744    1.30787    0.429677\n",
       "  1.16067    -0.255707    0.216914     -2.40255    -2.46799   -1.46619\n",
       " -0.434411   -0.607108    0.816192      1.19282     1.27309   -0.270205\n",
       "  0.412727    0.722902    0.424145      2.62941    -0.288722  -0.113701\n",
       " -0.434874   -0.659047   -1.59224       0.0749583   0.163534   0.777786\n",
       "  1.96235     0.363711   -1.27095   …  -0.482602    0.352057  -0.0786477\n",
       " -0.814709   -0.445876   -1.83821       1.94458     2.5976     1.03824\n",
       "  2.16479    -2.58858     2.87103       0.668372   -0.158715   0.53989\n",
       "  ⋮                                 ⋱                         \n",
       "  0.0138219  -1.43221     0.141513      1.13619    -2.71519   -0.368563\n",
       " -1.18133    -0.0518368   1.23705       0.923544   -0.336829   0.0998745\n",
       "  0.789905    3.15444     1.84744   …   3.2034      4.25491   -1.54858\n",
       "  0.0580671   0.419394   -2.65152      -0.614025   -0.492288  -0.157775\n",
       "  1.01359    -0.496089    1.09417      -0.0253229   0.173054   2.17623\n",
       "  2.10788    -0.433621    0.264345     -0.018247    0.350143   0.316145\n",
       "  0.757072   -1.23472     0.593982      1.89946     1.68289   -1.29059\n",
       "  0.917399   -0.740756   -2.87718   …  -1.5719     -1.71603   -1.20678\n",
       "  0.10315    -0.956864   -0.613048      0.528737    0.177616   3.96403\n",
       "  2.32628     0.112857    3.0854       -3.35623    -2.17857    2.88713\n",
       " -0.888584    0.466601    2.94397      -2.17857    -1.63547    0.393826\n",
       " -2.7513     -0.640613    1.0103        2.88713     0.393826   0.292451"
      ]
     },
     "execution_count": 86,
     "metadata": {},
     "output_type": "execute_result"
    }
   ],
   "source": [
    "# Симметризация матрицы:\n",
    "Asym = A + A'"
   ]
  },
  {
   "cell_type": "code",
   "execution_count": 87,
   "id": "bd3cdba6-e900-43b1-b010-b439168df93c",
   "metadata": {},
   "outputs": [
    {
     "data": {
      "text/plain": [
       "true"
      ]
     },
     "execution_count": 87,
     "metadata": {},
     "output_type": "execute_result"
    }
   ],
   "source": [
    "# Проверка, является ли матрица симметричной:\n",
    "issymmetric(Asym)"
   ]
  },
  {
   "cell_type": "code",
   "execution_count": 88,
   "id": "42358009-0bad-4d23-8824-0cfecd2c4974",
   "metadata": {},
   "outputs": [
    {
     "data": {
      "text/plain": [
       "-1.147586931664726"
      ]
     },
     "execution_count": 88,
     "metadata": {},
     "output_type": "execute_result"
    }
   ],
   "source": [
    "# Добавление шума:\n",
    "Asym_noisy = copy(Asym)\n",
    "Asym_noisy[1,2] += 5eps()"
   ]
  },
  {
   "cell_type": "code",
   "execution_count": 89,
   "id": "9d3f7468-d5ab-49d9-8128-620eb893ce8c",
   "metadata": {},
   "outputs": [
    {
     "data": {
      "text/plain": [
       "false"
      ]
     },
     "execution_count": 89,
     "metadata": {},
     "output_type": "execute_result"
    }
   ],
   "source": [
    "# Проверка, является ли матрица симметричной:\n",
    "issymmetric(Asym_noisy)"
   ]
  },
  {
   "cell_type": "code",
   "execution_count": 90,
   "id": "e3cb9ad8-b489-4609-a211-912df3ce947b",
   "metadata": {},
   "outputs": [
    {
     "data": {
      "text/plain": [
       "1000×1000 Symmetric{Float64, Matrix{Float64}}:\n",
       "  1.89113    -1.14759     0.705339  …   2.32628    -0.888584  -2.7513\n",
       " -1.14759    -0.162695   -1.59321       0.112857    0.466601  -0.640613\n",
       "  0.705339   -1.59321     3.45905       3.0854      2.94397    1.0103\n",
       " -1.95993    -1.60121    -0.690125     -0.234089    1.40913    0.396142\n",
       " -1.10852     1.63509    -0.371592      1.63391     1.63206    1.65072\n",
       " -0.598721    0.935986    0.537715  …  -0.363744    1.30787    0.429677\n",
       "  1.16067    -0.255707    0.216914     -2.40255    -2.46799   -1.46619\n",
       " -0.434411   -0.607108    0.816192      1.19282     1.27309   -0.270205\n",
       "  0.412727    0.722902    0.424145      2.62941    -0.288722  -0.113701\n",
       " -0.434874   -0.659047   -1.59224       0.0749583   0.163534   0.777786\n",
       "  1.96235     0.363711   -1.27095   …  -0.482602    0.352057  -0.0786477\n",
       " -0.814709   -0.445876   -1.83821       1.94458     2.5976     1.03824\n",
       "  2.16479    -2.58858     2.87103       0.668372   -0.158715   0.53989\n",
       "  ⋮                                 ⋱                         \n",
       "  0.0138219  -1.43221     0.141513      1.13619    -2.71519   -0.368563\n",
       " -1.18133    -0.0518368   1.23705       0.923544   -0.336829   0.0998745\n",
       "  0.789905    3.15444     1.84744   …   3.2034      4.25491   -1.54858\n",
       "  0.0580671   0.419394   -2.65152      -0.614025   -0.492288  -0.157775\n",
       "  1.01359    -0.496089    1.09417      -0.0253229   0.173054   2.17623\n",
       "  2.10788    -0.433621    0.264345     -0.018247    0.350143   0.316145\n",
       "  0.757072   -1.23472     0.593982      1.89946     1.68289   -1.29059\n",
       "  0.917399   -0.740756   -2.87718   …  -1.5719     -1.71603   -1.20678\n",
       "  0.10315    -0.956864   -0.613048      0.528737    0.177616   3.96403\n",
       "  2.32628     0.112857    3.0854       -3.35623    -2.17857    2.88713\n",
       " -0.888584    0.466601    2.94397      -2.17857    -1.63547    0.393826\n",
       " -2.7513     -0.640613    1.0103        2.88713     0.393826   0.292451"
      ]
     },
     "execution_count": 90,
     "metadata": {},
     "output_type": "execute_result"
    }
   ],
   "source": [
    "# Явно указываем, что матрица является симметричной:\n",
    "Asym_explicit = Symmetric(Asym_noisy)"
   ]
  },
  {
   "cell_type": "code",
   "execution_count": 91,
   "id": "9c489c51-5881-4da0-86b0-e4d6036df204",
   "metadata": {},
   "outputs": [
    {
     "name": "stderr",
     "output_type": "stream",
     "text": [
      "\u001b[32m\u001b[1m   Resolving\u001b[22m\u001b[39m package versions...\n",
      "\u001b[32m\u001b[1m   Installed\u001b[22m\u001b[39m BenchmarkTools ─ v1.5.0\n",
      "\u001b[32m\u001b[1m    Updating\u001b[22m\u001b[39m `C:\\Users\\User\\.julia\\environments\\v1.10\\Project.toml`\n",
      "  \u001b[90m[6e4b80f9] \u001b[39m\u001b[92m+ BenchmarkTools v1.5.0\u001b[39m\n",
      "\u001b[32m\u001b[1m    Updating\u001b[22m\u001b[39m `C:\\Users\\User\\.julia\\environments\\v1.10\\Manifest.toml`\n",
      "  \u001b[90m[6e4b80f9] \u001b[39m\u001b[93m↑ BenchmarkTools v1.4.0 ⇒ v1.5.0\u001b[39m\n",
      "\u001b[32m\u001b[1mPrecompiling\u001b[22m\u001b[39m project...\n",
      "\u001b[32m  ✓ \u001b[39mBenchmarkTools\n",
      "\u001b[32m  ✓ \u001b[39m\u001b[90mMathOptInterface\u001b[39m\n",
      "\u001b[32m  ✓ \u001b[39m\u001b[90mOptim\u001b[39m\n",
      "\u001b[32m  ✓ \u001b[39m\u001b[90mDiffEqNoiseProcess\u001b[39m\n",
      "\u001b[32m  ✓ \u001b[39m\u001b[90mStochasticDiffEq\u001b[39m\n",
      "\u001b[32m  ✓ \u001b[39mDifferentialEquations\n",
      "  6 dependencies successfully precompiled in 144 seconds. 322 already precompiled.\n"
     ]
    }
   ],
   "source": [
    "import Pkg\n",
    "Pkg.add(\"BenchmarkTools\")\n",
    "using BenchmarkTools"
   ]
  },
  {
   "cell_type": "code",
   "execution_count": 92,
   "id": "e4124f8c-fc41-4841-b582-41633fa1d70a",
   "metadata": {},
   "outputs": [
    {
     "name": "stdout",
     "output_type": "stream",
     "text": [
      "  140.190 ms (11 allocations: 7.99 MiB)\n"
     ]
    },
    {
     "data": {
      "text/plain": [
       "1000-element Vector{Float64}:\n",
       " -89.90745697267798\n",
       " -89.28462914513722\n",
       " -87.7618794507008\n",
       " -86.82276458104195\n",
       " -86.17545419337942\n",
       " -85.50230407876174\n",
       " -85.06852580328531\n",
       " -84.70714389011076\n",
       " -84.5030609471845\n",
       " -84.18620811687069\n",
       " -83.58445180670451\n",
       " -83.05188255007515\n",
       " -82.88233698029482\n",
       "   ⋮\n",
       "  82.50731589150371\n",
       "  83.0077687026647\n",
       "  83.13600831985721\n",
       "  83.28420721839369\n",
       "  84.08896605208413\n",
       "  84.6386358303351\n",
       "  85.29488028420883\n",
       "  85.65940396658235\n",
       "  86.54358105900604\n",
       "  87.12252883775672\n",
       "  87.33499654466465\n",
       "  87.5091798420538"
      ]
     },
     "execution_count": 92,
     "metadata": {},
     "output_type": "execute_result"
    }
   ],
   "source": [
    "# Оценка эффективности выполнения операции по нахождению\n",
    "# собственных значений симметризованной матрицы:\n",
    "@btime eigvals(Asym)"
   ]
  },
  {
   "cell_type": "code",
   "execution_count": 96,
   "id": "fa618ce7-5a34-4c4d-9686-1e29002c9b56",
   "metadata": {},
   "outputs": [
    {
     "name": "stdout",
     "output_type": "stream",
     "text": [
      "  736.767 ms (14 allocations: 7.93 MiB)\n"
     ]
    },
    {
     "data": {
      "text/plain": [
       "1000-element Vector{Float64}:\n",
       " -89.90745697267911\n",
       " -89.28462914513783\n",
       " -87.76187945070113\n",
       " -86.8227645810423\n",
       " -86.17545419337884\n",
       " -85.50230407876121\n",
       " -85.06852580328572\n",
       " -84.70714389011033\n",
       " -84.50306094718434\n",
       " -84.18620811687012\n",
       " -83.58445180670492\n",
       " -83.05188255007515\n",
       " -82.8823369802946\n",
       "   ⋮\n",
       "  82.50731589150357\n",
       "  83.00776870266446\n",
       "  83.1360083198572\n",
       "  83.28420721839342\n",
       "  84.08896605208409\n",
       "  84.63863583033428\n",
       "  85.29488028420847\n",
       "  85.65940396658272\n",
       "  86.54358105900539\n",
       "  87.12252883775666\n",
       "  87.33499654466515\n",
       "  87.50917984205434"
      ]
     },
     "execution_count": 96,
     "metadata": {},
     "output_type": "execute_result"
    }
   ],
   "source": [
    "# Оценка эффективности выполнения операции по нахождению\n",
    "# собственных значений зашумлённой матрицы:\n",
    "@btime eigvals(Asym_noisy)"
   ]
  },
  {
   "cell_type": "code",
   "execution_count": 97,
   "id": "455daa5a-a701-426b-9a96-11d8a81aed4a",
   "metadata": {},
   "outputs": [
    {
     "name": "stdout",
     "output_type": "stream",
     "text": [
      "  153.165 ms (11 allocations: 7.99 MiB)\n"
     ]
    },
    {
     "data": {
      "text/plain": [
       "1000-element Vector{Float64}:\n",
       " -89.90745697267839\n",
       " -89.28462914513725\n",
       " -87.76187945070029\n",
       " -86.82276458104262\n",
       " -86.1754541933794\n",
       " -85.50230407876178\n",
       " -85.06852580328525\n",
       " -84.70714389011067\n",
       " -84.50306094718444\n",
       " -84.18620811687055\n",
       " -83.5844518067044\n",
       " -83.05188255007535\n",
       " -82.88233698029536\n",
       "   ⋮\n",
       "  82.5073158915038\n",
       "  83.00776870266455\n",
       "  83.13600831985687\n",
       "  83.2842072183936\n",
       "  84.08896605208412\n",
       "  84.6386358303352\n",
       "  85.29488028420896\n",
       "  85.65940396658252\n",
       "  86.54358105900596\n",
       "  87.12252883775663\n",
       "  87.33499654466463\n",
       "  87.50917984205351"
      ]
     },
     "execution_count": 97,
     "metadata": {},
     "output_type": "execute_result"
    }
   ],
   "source": [
    "# Оценка эффективности выполнения операции по нахождению\n",
    "# собственных значений зашумлённой матрицы,\n",
    "# для которой явно указано, что она симметричная:\n",
    "@btime eigvals(Asym_explicit)"
   ]
  },
  {
   "cell_type": "code",
   "execution_count": 100,
   "id": "6f1cad3d-4f84-4a8e-b056-5f3d82fa76c1",
   "metadata": {},
   "outputs": [
    {
     "data": {
      "text/plain": [
       "1000000×1000000 SymTridiagonal{Float64, Vector{Float64}}:\n",
       " 0.540287   0.7954     ⋅         ⋅        …    ⋅          ⋅         ⋅ \n",
       " 0.7954     1.1026   -1.52548    ⋅             ⋅          ⋅         ⋅ \n",
       "  ⋅        -1.52548   0.197984  1.57573        ⋅          ⋅         ⋅ \n",
       "  ⋅          ⋅        1.57573   0.214912       ⋅          ⋅         ⋅ \n",
       "  ⋅          ⋅         ⋅        1.4176         ⋅          ⋅         ⋅ \n",
       "  ⋅          ⋅         ⋅         ⋅        …    ⋅          ⋅         ⋅ \n",
       "  ⋅          ⋅         ⋅         ⋅             ⋅          ⋅         ⋅ \n",
       "  ⋅          ⋅         ⋅         ⋅             ⋅          ⋅         ⋅ \n",
       "  ⋅          ⋅         ⋅         ⋅             ⋅          ⋅         ⋅ \n",
       "  ⋅          ⋅         ⋅         ⋅             ⋅          ⋅         ⋅ \n",
       "  ⋅          ⋅         ⋅         ⋅        …    ⋅          ⋅         ⋅ \n",
       "  ⋅          ⋅         ⋅         ⋅             ⋅          ⋅         ⋅ \n",
       "  ⋅          ⋅         ⋅         ⋅             ⋅          ⋅         ⋅ \n",
       " ⋮                                        ⋱                        \n",
       "  ⋅          ⋅         ⋅         ⋅             ⋅          ⋅         ⋅ \n",
       "  ⋅          ⋅         ⋅         ⋅             ⋅          ⋅         ⋅ \n",
       "  ⋅          ⋅         ⋅         ⋅        …    ⋅          ⋅         ⋅ \n",
       "  ⋅          ⋅         ⋅         ⋅             ⋅          ⋅         ⋅ \n",
       "  ⋅          ⋅         ⋅         ⋅             ⋅          ⋅         ⋅ \n",
       "  ⋅          ⋅         ⋅         ⋅             ⋅          ⋅         ⋅ \n",
       "  ⋅          ⋅         ⋅         ⋅             ⋅          ⋅         ⋅ \n",
       "  ⋅          ⋅         ⋅         ⋅        …    ⋅          ⋅         ⋅ \n",
       "  ⋅          ⋅         ⋅         ⋅           -0.169001    ⋅         ⋅ \n",
       "  ⋅          ⋅         ⋅         ⋅            0.546604   0.357314   ⋅ \n",
       "  ⋅          ⋅         ⋅         ⋅            0.357314  -0.4732    0.106754\n",
       "  ⋅          ⋅         ⋅         ⋅             ⋅         0.106754  0.213239"
      ]
     },
     "execution_count": 100,
     "metadata": {},
     "output_type": "execute_result"
    }
   ],
   "source": [
    "# Трёхдиагональная матрица 1000000 х 1000000:\n",
    "n = 1000000\n",
    "A = SymTridiagonal(randn(n), randn(n-1))"
   ]
  },
  {
   "cell_type": "code",
   "execution_count": 101,
   "id": "d6d079c7-f3f1-4c32-a588-2aa9f32372d9",
   "metadata": {},
   "outputs": [
    {
     "name": "stdout",
     "output_type": "stream",
     "text": [
      "  524.792 ms (17 allocations: 183.11 MiB)\n"
     ]
    },
    {
     "data": {
      "text/plain": [
       "6.275049715720039"
      ]
     },
     "execution_count": 101,
     "metadata": {},
     "output_type": "execute_result"
    }
   ],
   "source": [
    "# Оценка эффективности выполнения операции по нахождению\n",
    "# собственных значений:\n",
    "@btime eigmax(A)"
   ]
  },
  {
   "cell_type": "code",
   "execution_count": 108,
   "id": "372ce7bf-2a78-4c09-8479-efc725950dac",
   "metadata": {},
   "outputs": [
    {
     "ename": "LoadError",
     "evalue": "OutOfMemoryError()",
     "output_type": "error",
     "traceback": [
      "OutOfMemoryError()",
      "",
      "Stacktrace:",
      " [1] Array",
      "   @ .\\boot.jl:479 [inlined]",
      " [2] Matrix{Float64}(M::SymTridiagonal{Float64, Vector{Float64}})",
      "   @ LinearAlgebra C:\\Users\\User\\AppData\\Local\\Programs\\Julia-1.10.0\\share\\julia\\stdlib\\v1.10\\LinearAlgebra\\src\\tridiag.jl:127",
      " [3] (Matrix)(M::SymTridiagonal{Float64, Vector{Float64}})",
      "   @ LinearAlgebra C:\\Users\\User\\AppData\\Local\\Programs\\Julia-1.10.0\\share\\julia\\stdlib\\v1.10\\LinearAlgebra\\src\\tridiag.jl:138",
      " [4] top-level scope",
      "   @ In[108]:1"
     ]
    }
   ],
   "source": [
    "B = Matrix(A)"
   ]
  },
  {
   "cell_type": "markdown",
   "id": "0f390f53-e8b0-4d73-8094-a470bad68a72",
   "metadata": {},
   "source": [
    "### Общая линейная алгебра"
   ]
  },
  {
   "cell_type": "code",
   "execution_count": 102,
   "id": "d2ec8e51-dee9-4571-9844-6ee169d539ea",
   "metadata": {},
   "outputs": [
    {
     "data": {
      "text/plain": [
       "3×3 Matrix{Rational{BigInt}}:\n",
       " 1//10  1//2  2//5\n",
       " 3//10  4//5  7//10\n",
       "  1     3//5  4//5"
      ]
     },
     "execution_count": 102,
     "metadata": {},
     "output_type": "execute_result"
    }
   ],
   "source": [
    "# Матрица с рациональными элементами:\n",
    "Arational = Matrix{Rational{BigInt}}(rand(1:10, 3, 3))/10"
   ]
  },
  {
   "cell_type": "code",
   "execution_count": 103,
   "id": "6c418c21-0857-4090-86d7-66372a6184b9",
   "metadata": {},
   "outputs": [
    {
     "data": {
      "text/plain": [
       "3-element Vector{Rational{BigInt}}:\n",
       "   1\n",
       "  9//5\n",
       " 12//5"
      ]
     },
     "execution_count": 103,
     "metadata": {},
     "output_type": "execute_result"
    }
   ],
   "source": [
    "# Единичный вектор:\n",
    "x = fill(1, 3)\n",
    "# Задаём вектор b:\n",
    "b = Arational*x"
   ]
  },
  {
   "cell_type": "code",
   "execution_count": 104,
   "id": "f9deefe8-33f6-40ee-a249-110a6304cc6c",
   "metadata": {},
   "outputs": [
    {
     "data": {
      "text/plain": [
       "3-element Vector{Rational{BigInt}}:\n",
       " 1\n",
       " 1\n",
       " 1"
      ]
     },
     "execution_count": 104,
     "metadata": {},
     "output_type": "execute_result"
    }
   ],
   "source": [
    "# Решение исходного уравнения получаем с помощью функции \\\n",
    "# (убеждаемся, что x - единичный вектор):\n",
    "Arational\\b"
   ]
  },
  {
   "cell_type": "code",
   "execution_count": 105,
   "id": "94a0975b-d379-49c8-9550-35373c963387",
   "metadata": {},
   "outputs": [
    {
     "data": {
      "text/plain": [
       "LU{Rational{BigInt}, Matrix{Rational{BigInt}}, Vector{Int64}}\n",
       "L factor:\n",
       "3×3 Matrix{Rational{BigInt}}:\n",
       "  1       0     0\n",
       " 3//10    1     0\n",
       " 1//10  22//31  1\n",
       "U factor:\n",
       "3×3 Matrix{Rational{BigInt}}:\n",
       " 1   3//5    4//5\n",
       " 0  31//50  23//50\n",
       " 0    0     -1//155"
      ]
     },
     "execution_count": 105,
     "metadata": {},
     "output_type": "execute_result"
    }
   ],
   "source": [
    "# LU-разложение:\n",
    "lu(Arational)"
   ]
  },
  {
   "cell_type": "markdown",
   "id": "3f3fbaef-fc67-4057-b62e-5cae98bd6890",
   "metadata": {},
   "source": [
    "## Задание для самостоятельного выполнения"
   ]
  },
  {
   "cell_type": "markdown",
   "id": "b33655e8-84c5-4607-ab7d-016d2c0d02c9",
   "metadata": {},
   "source": [
    "### Произведение векторов"
   ]
  },
  {
   "cell_type": "markdown",
   "id": "0ecbfa67-a6db-479f-966f-3502834f996b",
   "metadata": {},
   "source": [
    "1. Задайте вектор v. Умножьте вектор v скалярно сам на себя и сохраните результат в dot_v."
   ]
  },
  {
   "cell_type": "code",
   "execution_count": 106,
   "id": "a7c8f41b-bd0b-43af-8f3d-0030c247047d",
   "metadata": {},
   "outputs": [
    {
     "data": {
      "text/plain": [
       "3-element Vector{Int64}:\n",
       " 16\n",
       " 69\n",
       " 25"
      ]
     },
     "metadata": {},
     "output_type": "display_data"
    },
    {
     "data": {
      "text/plain": [
       "5642"
      ]
     },
     "execution_count": 106,
     "metadata": {},
     "output_type": "execute_result"
    }
   ],
   "source": [
    "v = rand(1:100, 3); display(v)\n",
    "dot_v = v'v"
   ]
  },
  {
   "cell_type": "markdown",
   "id": "367f3c45-19bf-4c16-b595-cec59989d9c8",
   "metadata": {},
   "source": [
    "2. Умножьте v матрично на себя (внешнее произведение), присвоив результат переменной outer_v."
   ]
  },
  {
   "cell_type": "code",
   "execution_count": 107,
   "id": "2d85b477-e440-4a5d-b25d-f03c0c7bcac1",
   "metadata": {},
   "outputs": [
    {
     "data": {
      "text/plain": [
       "3×3 Matrix{Int64}:\n",
       "  256  1104   400\n",
       " 1104  4761  1725\n",
       "  400  1725   625"
      ]
     },
     "execution_count": 107,
     "metadata": {},
     "output_type": "execute_result"
    }
   ],
   "source": [
    "outer_v = v*v'"
   ]
  },
  {
   "cell_type": "markdown",
   "id": "25e1383e-a46b-42f6-80a1-062548de3d34",
   "metadata": {},
   "source": [
    "### Системы линейных уравнений"
   ]
  },
  {
   "cell_type": "markdown",
   "id": "e76e9f50-c6ac-4a59-9073-685ff0e387a9",
   "metadata": {},
   "source": [
    "1. Решить СЛАУ с двумя неизвестными."
   ]
  },
  {
   "cell_type": "code",
   "execution_count": 109,
   "id": "de5d9cb8-6a3e-47b2-841c-078479f03797",
   "metadata": {},
   "outputs": [
    {
     "name": "stdout",
     "output_type": "stream",
     "text": [
      "Нет решений\n"
     ]
    }
   ],
   "source": [
    "function LinearDep(mtrx::Matrix, vec::Vector)\n",
    "    # returns isSolvable::Bool, ind::Vector{Int64} -- вектор \n",
    "    A = hcat(mtrx, vec)\n",
    "    Ac = copy(mtrx); bc = copy(vec)\n",
    "    s1 = size(A)[1]; s2 = size(A)[2]-1\n",
    "    t = [false for i in 1:size(A)[1]]\n",
    "    poss_j = collect(2:s2)\n",
    "    for i in 1:s2\n",
    "        for j in i+1:s1\n",
    "            mbool = true\n",
    "            temp = A[j, :]./A[i, :]\n",
    "            if length(unique(temp[1:s2])) == 1\n",
    "                if temp[s2+1] == temp[1]\n",
    "                    t[j] = true\n",
    "                else\n",
    "                    return false, []\n",
    "                end\n",
    "            end\n",
    "            tii = i\n",
    "            if Ac[i, i] == 0\n",
    "                tii = sortperm(abs.(Ac[i, :]))[s2]\n",
    "                if Ac[i, tii] == 0\n",
    "                    mbool = false\n",
    "                end\n",
    "            end\n",
    "            if mbool\n",
    "                c = -Ac[j, tii] / Ac[i, tii]\n",
    "                if isequal(Ac[j, :].+(c*Ac[i, :]), zeros(Float64, s2))\n",
    "                    if bc[j] + c*bc[i] != 0\n",
    "                        return false, []\n",
    "                    else\n",
    "                        t[j] = true\n",
    "                        Ac[j, :] = Ac[j, :].+(c*Ac[i, :])\n",
    "                        bc[j] += c*bc[i]\n",
    "                    end\n",
    "                else\n",
    "                    Ac[j, :].+= (c*Ac[i, :])\n",
    "                    bc[j] += c*bc[i]\n",
    "                end\n",
    "            end\n",
    "        end\n",
    "    end\n",
    "    for i in 1:s1\n",
    "        if isequal(Ac[i, :], zeros(Float64, s2))\n",
    "            t[i] = true\n",
    "        end\n",
    "    end\n",
    "    answ = deleteat!(collect(1:s1), t)\n",
    "    if length(answ) >= s2\n",
    "        return true, answ\n",
    "    else \n",
    "        return false, [pi]\n",
    "    end\n",
    "end\n",
    "\n",
    "function SLAU_solver(A::Matrix, b::Vector)\n",
    "    if ndims(A) != 2 || size(A)[1] != length(b)\n",
    "        println(\"Не совпадают размерности!\")\n",
    "        return\n",
    "    end\n",
    "    s1 = size(A)[1]; s2 = size(A)[2]\n",
    "    if s1 == s2 && det(A) != 0\n",
    "        return A\\b\n",
    "    elseif s1 < s2\n",
    "        println(\"Уравнений меньше, чем переменных\")\n",
    "        return\n",
    "    else # s1 > s2 || (s1 == s2 && det(A) == 0)\n",
    "        isSolvable, indNonLinear = LinearDep(A, b)\n",
    "        if !isSolvable && isequal(indNonLinear, [])\n",
    "            println(\"Нет решений\")\n",
    "            return\n",
    "        elseif !isSolvable && isequal(indNonLinear, [pi])\n",
    "            println(\"Бесконечное количество решений\")\n",
    "            return\n",
    "        else \n",
    "            length(indNonLinear) > s2 ? indNonLinear = indNonLinear[1:s2] : \n",
    "            return A[indNonLinear, :]\\b[indNonLinear]\n",
    "        end\n",
    "    end\n",
    "end\n",
    "A = Float64[1 2 3; 1/3 2 1; 2 3 6; 3 4 5]\n",
    "b = Float64[1, 1, 4, 5]\n",
    "SLAU_solver(A, b)"
   ]
  },
  {
   "cell_type": "markdown",
   "id": "1b537047-5f5b-4da0-a5d2-5d7920761808",
   "metadata": {},
   "source": [
    "a) Решение существует (система линейно независима)\n",
    "\n",
    "$$\n",
    "\\begin{cases}\n",
    "x+y=2,\\\\\n",
    "x-y=3.\n",
    "\\end{cases}\n",
    "$$"
   ]
  },
  {
   "cell_type": "code",
   "execution_count": 110,
   "id": "32bec1b2-579d-46d3-b9e6-1dde40282309",
   "metadata": {},
   "outputs": [
    {
     "data": {
      "text/plain": [
       "2-element Vector{Float64}:\n",
       "  2.5\n",
       " -0.5"
      ]
     },
     "execution_count": 110,
     "metadata": {},
     "output_type": "execute_result"
    }
   ],
   "source": [
    "A = Float64[1 1; 1 -1]\n",
    "b = Float64[2, 3]\n",
    "SLAU_solver(A, b)"
   ]
  },
  {
   "cell_type": "markdown",
   "id": "df40841d-d52c-4ec6-91fc-9be13877da56",
   "metadata": {},
   "source": [
    "b) Бесконечное количество решений (вся система линейно зависима и коэффициенты и ветокры ответов)\n",
    "\n",
    "$$\n",
    "\\begin{cases}\n",
    "x+y=2,\\\\\n",
    "2x+2y=4.\n",
    "\\end{cases}\n",
    "$$"
   ]
  },
  {
   "cell_type": "code",
   "execution_count": 111,
   "id": "f8ab8ccd-d1c8-4267-bfca-381ea5929ed7",
   "metadata": {},
   "outputs": [
    {
     "name": "stdout",
     "output_type": "stream",
     "text": [
      "Бесконечное количество решений\n"
     ]
    }
   ],
   "source": [
    "A = Float64[1 1; 2 2]\n",
    "b = Float64[2, 4]\n",
    "SLAU_solver(A, b)"
   ]
  },
  {
   "cell_type": "markdown",
   "id": "28c95f7a-841c-42f9-ba3b-cfec4cc21340",
   "metadata": {},
   "source": [
    "c) Нет решений (матрица коэффициентов линейно зависима, при этом векторы нет)\n",
    "\n",
    "$$\n",
    "\\begin{cases}\n",
    "x+y=2,\\\\\n",
    "2x+2y=5.\n",
    "\\end{cases}\n",
    "$$"
   ]
  },
  {
   "cell_type": "code",
   "execution_count": 113,
   "id": "999914cd-52a1-465d-ad53-24ea9f36f1df",
   "metadata": {},
   "outputs": [
    {
     "name": "stdout",
     "output_type": "stream",
     "text": [
      "Нет решений\n"
     ]
    }
   ],
   "source": [
    "A = Float64[1 1; 2 2]\n",
    "b = Float64[2, 5]\n",
    "SLAU_solver(A, b)"
   ]
  },
  {
   "cell_type": "markdown",
   "id": "e31fb3bf-d0c7-4777-89e2-6575afa7bdfc",
   "metadata": {},
   "source": [
    "d) Бесконечное количество решений (вся система линейно зависима)\n",
    "\n",
    "$$\n",
    "\\begin{cases}\n",
    "x+y = 1,\\\\\n",
    "2x+2y = 2,\\\\\n",
    "3x+3y = 3.\n",
    "\\end{cases}\n",
    "$$"
   ]
  },
  {
   "cell_type": "code",
   "execution_count": 115,
   "id": "c11da58c-8ff2-4075-92a2-c7c7b51a10f1",
   "metadata": {},
   "outputs": [
    {
     "name": "stdout",
     "output_type": "stream",
     "text": [
      "Бесконечное количество решений\n"
     ]
    }
   ],
   "source": [
    "A = Float64[1 1; 2 2; 3 3]\n",
    "b = Float64[1, 2, 3]\n",
    "SLAU_solver(A, b)"
   ]
  },
  {
   "cell_type": "markdown",
   "id": "ec430872-15ef-496d-b9e4-a0a9a00b316f",
   "metadata": {},
   "source": [
    "e) Нет решений\n",
    "\n",
    "$$\n",
    "\\begin{cases}\n",
    "x+y=2,\\\\\n",
    "2x+y=1,\\\\\n",
    "x-y=3.\n",
    "\\end{cases}\n",
    "$$"
   ]
  },
  {
   "cell_type": "code",
   "execution_count": 116,
   "id": "df51c0ff-0b4c-4dd9-b339-1f4f9a155b26",
   "metadata": {},
   "outputs": [
    {
     "name": "stdout",
     "output_type": "stream",
     "text": [
      "Нет решений\n"
     ]
    }
   ],
   "source": [
    "A = Float64[1 1; 2 1; 1 -1]\n",
    "b = Float64[2, 1, 3]\n",
    "SLAU_solver(A, b)"
   ]
  },
  {
   "cell_type": "markdown",
   "id": "ad1087f8-8e6e-4dc2-9eb3-abe5294b3442",
   "metadata": {},
   "source": [
    "f) Решение существует\n",
    "\n",
    "$$\n",
    "\\begin{cases}\n",
    "x+y=2,\\\\\n",
    "2x+y=1,\\\\\n",
    "3x+2y=3.\n",
    "\\end{cases}\n",
    "$$"
   ]
  },
  {
   "cell_type": "code",
   "execution_count": 118,
   "id": "e6df2a63-ed5c-49df-8c8b-83b301462f12",
   "metadata": {},
   "outputs": [
    {
     "data": {
      "text/plain": [
       "2-element Vector{Float64}:\n",
       " -1.0\n",
       "  3.0"
      ]
     },
     "execution_count": 118,
     "metadata": {},
     "output_type": "execute_result"
    }
   ],
   "source": [
    "A = Float64[1 1; 2 1; 3 2]\n",
    "b = Float64[2, 1, 3]\n",
    "SLAU_solver(A, b)"
   ]
  },
  {
   "cell_type": "markdown",
   "id": "da25f872-8c1f-4d31-8941-3d632b693df4",
   "metadata": {},
   "source": [
    "2. Решить СЛАУ с тремя неизвестными"
   ]
  },
  {
   "cell_type": "markdown",
   "id": "aec90dac-ba26-408b-8946-c20087809206",
   "metadata": {},
   "source": [
    "a)\n",
    "\n",
    "$$\n",
    "\\begin{cases}\n",
    "x+y+z=2,\\\\\n",
    "x-y-2z=3.\n",
    "\\end{cases}\n",
    "$$"
   ]
  },
  {
   "cell_type": "code",
   "execution_count": 121,
   "id": "f4ac52a9-726d-47de-ba69-0d14d897956a",
   "metadata": {},
   "outputs": [
    {
     "name": "stdout",
     "output_type": "stream",
     "text": [
      "Уравнений меньше, чем переменных\n"
     ]
    }
   ],
   "source": [
    "A = Float64[1 1 1; 1 -1 -2]\n",
    "b = Float64[2, 3]\n",
    "SLAU_solver(A, b)"
   ]
  },
  {
   "cell_type": "markdown",
   "id": "f32716ef-5459-47ca-aa0a-c2b8a763d8ee",
   "metadata": {},
   "source": [
    "b)\n",
    "\n",
    "$$\n",
    "\\begin{cases}\n",
    "x+y+z=2,\\\\\n",
    "2x+2y-3z=4,\\\\\n",
    "3x+y+z=1.\n",
    "\\end{cases}\n",
    "$$"
   ]
  },
  {
   "cell_type": "code",
   "execution_count": 123,
   "id": "c5b644eb-37b9-46d9-ac49-18242d155ebb",
   "metadata": {},
   "outputs": [
    {
     "data": {
      "text/plain": [
       "3-element Vector{Float64}:\n",
       " -0.5\n",
       "  2.5\n",
       "  0.0"
      ]
     },
     "execution_count": 123,
     "metadata": {},
     "output_type": "execute_result"
    }
   ],
   "source": [
    "A = Float64[1 1 1; 2 2 -3; 3 1 1]\n",
    "b = Float64[2, 4, 1]\n",
    "SLAU_solver(A, b)"
   ]
  },
  {
   "cell_type": "markdown",
   "id": "2432fe39-75c2-47f7-8fe7-98b769af18ab",
   "metadata": {},
   "source": [
    "c)\n",
    "\n",
    "$$\n",
    "\\begin{cases}\n",
    "x+y+z=1,\\\\\n",
    "x+y+2z=0,\\\\\n",
    "2x+2y+3z=1.\n",
    "\\end{cases}\n",
    "$$"
   ]
  },
  {
   "cell_type": "code",
   "execution_count": 124,
   "id": "39d70e15-f2e0-4b96-8815-5d211a7e1718",
   "metadata": {},
   "outputs": [
    {
     "name": "stdout",
     "output_type": "stream",
     "text": [
      "Бесконечное количество решений\n"
     ]
    }
   ],
   "source": [
    "A = Float64[1 1 1; 1 1 2; 2 2 3]\n",
    "b = Float64[1, 0, 1]\n",
    "SLAU_solver(A, b)"
   ]
  },
  {
   "cell_type": "markdown",
   "id": "69b77bd3-f2b3-4c9f-8837-41124fe9abe1",
   "metadata": {},
   "source": [
    "d)\n",
    "\n",
    "$$\n",
    "\\begin{cases}\n",
    "x+y+z=1,\\\\\n",
    "x+y+2z=0,\\\\\n",
    "2x+2y+3z=0.\n",
    "\\end{cases}\n",
    "$$"
   ]
  },
  {
   "cell_type": "code",
   "execution_count": 125,
   "id": "0a52856a-be88-4b27-b755-2f5fe2b346aa",
   "metadata": {},
   "outputs": [
    {
     "name": "stdout",
     "output_type": "stream",
     "text": [
      "Нет решений\n"
     ]
    }
   ],
   "source": [
    "A = Float64[1 1 1; 1 1 2; 2 2 3]\n",
    "b = Float64[1, 0, 0]\n",
    "SLAU_solver(A, b)"
   ]
  },
  {
   "cell_type": "markdown",
   "id": "9c1a6561-9d54-4f38-a89b-d781ba8e3322",
   "metadata": {},
   "source": [
    "### Операции с матрицами"
   ]
  },
  {
   "cell_type": "markdown",
   "id": "9124e001-841f-41f8-9d4e-3d0ac825b3ab",
   "metadata": {},
   "source": [
    "1. Приведите приведённые ниже матрицы к диагональному виду"
   ]
  },
  {
   "cell_type": "code",
   "execution_count": 130,
   "id": "fda6dc25-aac1-4305-b8c9-91f8220d2039",
   "metadata": {},
   "outputs": [
    {
     "data": {
      "text/plain": [
       "to_Diagonal (generic function with 1 method)"
      ]
     },
     "execution_count": 130,
     "metadata": {},
     "output_type": "execute_result"
    }
   ],
   "source": [
    "function to_Diagonal(mtrx)\n",
    "    s = size(mtrx)[1]\n",
    "    ordDown = vcat([[if i == s; [i, j-1] else [i, j] end for j in i+1:s] for i in 1:s]...)\n",
    "    ordUP = vcat([[if i == s; [j-1, i] else [j, i] end for j in i+1:s] for i in s:-1:1]...)\n",
    "    answ = [[] for _ in 1:s]\n",
    "    for i in ordDown\n",
    "        if mtrx[i[2], i[1]] != 0\n",
    "            k = mtrx[i[2], i[1]] / mtrx[i[1], i[1]]\n",
    "            answ[i[2]] = [mtrx[i[2], j] - mtrx[i[1], j] * k for j in 1:s]\n",
    "        end\n",
    "    end\n",
    "    for i in ordUP\n",
    "        if mtrx[i[2], i[1]] != 0\n",
    "            k = mtrx[i[2], i[1]] / mtrx[i[1], i[1]]\n",
    "            answ[i[2]] = [mtrx[i[2], j] - mtrx[i[1], j] * k for j in 1:s]\n",
    "        end\n",
    "    end\n",
    "    return copy(hcat(answ...)')\n",
    "end"
   ]
  },
  {
   "cell_type": "code",
   "execution_count": 132,
   "id": "239fcad2-3835-4571-bad9-519072d29ed1",
   "metadata": {},
   "outputs": [
    {
     "data": {
      "text/plain": [
       "2×2 Matrix{Float64}:\n",
       " -3.0   0.0\n",
       "  0.0  -3.0"
      ]
     },
     "execution_count": 132,
     "metadata": {},
     "output_type": "execute_result"
    }
   ],
   "source": [
    "# a)\n",
    "A = Float64[1 -2; -2 1]\n",
    "to_Diagonal(A)"
   ]
  },
  {
   "cell_type": "code",
   "execution_count": 133,
   "id": "63ee05a0-4dbd-4a3b-97ef-5c2524c713fc",
   "metadata": {},
   "outputs": [
    {
     "data": {
      "text/plain": [
       "2×2 Matrix{Float64}:\n",
       " -0.333333   0.0\n",
       "  0.0       -1.0"
      ]
     },
     "execution_count": 133,
     "metadata": {},
     "output_type": "execute_result"
    }
   ],
   "source": [
    "# b)\n",
    "A = Float64[1 -2; -2 3]\n",
    "to_Diagonal(A)"
   ]
  },
  {
   "cell_type": "code",
   "execution_count": 134,
   "id": "098ed288-9331-403a-bbc2-54546d6210c9",
   "metadata": {},
   "outputs": [
    {
     "data": {
      "text/plain": [
       "3×3 Matrix{Float64}:\n",
       "  -3.0    0.0    4.0\n",
       " NaN    -Inf   NaN\n",
       "   4.0    0.0   -4.0"
      ]
     },
     "execution_count": 134,
     "metadata": {},
     "output_type": "execute_result"
    }
   ],
   "source": [
    "# c)\n",
    "A = Float64[1 -2 0; -2 1 2; 0 2 0]\n",
    "to_Diagonal(A)"
   ]
  },
  {
   "cell_type": "markdown",
   "id": "26947c7d-20d6-4b0e-847f-885bccb89bea",
   "metadata": {},
   "source": [
    "2. Вычислите"
   ]
  },
  {
   "cell_type": "code",
   "execution_count": 135,
   "id": "6cea1d84-9c06-4561-8f77-d644fed65615",
   "metadata": {},
   "outputs": [
    {
     "data": {
      "text/plain": [
       "mtrx_Function (generic function with 1 method)"
      ]
     },
     "execution_count": 135,
     "metadata": {},
     "output_type": "execute_result"
    }
   ],
   "source": [
    "function mtrx_Function(A::Matrix, op)\n",
    "    X = eigvecs(A)\n",
    "    lamb = diagm(eigvals(A))\n",
    "    lambfunc = [op(l) for l in lamb]\n",
    "    answ = X^(-1)*lambfunc*X\n",
    "    return answ\n",
    "end"
   ]
  },
  {
   "cell_type": "code",
   "execution_count": 137,
   "id": "724068ec-ffc3-4dbe-b7c8-702526365b2e",
   "metadata": {},
   "outputs": [
    {
     "data": {
      "text/plain": [
       "2×2 Matrix{Int64}:\n",
       "  29525  -29524\n",
       " -29524   29525"
      ]
     },
     "metadata": {},
     "output_type": "display_data"
    },
    {
     "data": {
      "text/plain": [
       "2×2 Matrix{Float64}:\n",
       "  29525.0  -29524.0\n",
       " -29524.0   29525.0"
      ]
     },
     "execution_count": 137,
     "metadata": {},
     "output_type": "execute_result"
    }
   ],
   "source": [
    "# a)\n",
    "A = [1 -2; -2 1]; display(A^10)\n",
    "mtrx_Function(A, x -> x^10)"
   ]
  },
  {
   "cell_type": "code",
   "execution_count": 139,
   "id": "8966dd4f-50c4-46f3-b0dd-532fd588ebe1",
   "metadata": {},
   "outputs": [
    {
     "data": {
      "text/plain": [
       "2×2 Matrix{Float64}:\n",
       "  2.1889   -0.45685\n",
       " -0.45685   2.1889"
      ]
     },
     "execution_count": 139,
     "metadata": {},
     "output_type": "execute_result"
    }
   ],
   "source": [
    "# b)\n",
    "A = [5 -2; -2 5]\n",
    "mtrx_Function(A, x -> sqrt(x))"
   ]
  },
  {
   "cell_type": "code",
   "execution_count": 140,
   "id": "5b5560a6-8503-49a2-b4b0-3d440ac7d63a",
   "metadata": {},
   "outputs": [
    {
     "data": {
      "text/plain": [
       "2×2 Matrix{Float64}:\n",
       "  0.221125  -1.22112\n",
       " -1.22112    0.221125"
      ]
     },
     "execution_count": 140,
     "metadata": {},
     "output_type": "execute_result"
    }
   ],
   "source": [
    "# c)\n",
    "A = [1 -2; -2 1]\n",
    "mtrx_Function(A, x -> cbrt(x))"
   ]
  },
  {
   "cell_type": "code",
   "execution_count": 141,
   "id": "625b2b26-43a9-4a38-a4a5-85c8d60eac5c",
   "metadata": {},
   "outputs": [
    {
     "data": {
      "text/plain": [
       "2×2 Matrix{ComplexF64}:\n",
       " 0.553689+0.464394im  -0.889962+0.234276im\n",
       " -1.09755+0.288922im    1.76413+0.145754im"
      ]
     },
     "execution_count": 141,
     "metadata": {},
     "output_type": "execute_result"
    }
   ],
   "source": [
    "# d)\n",
    "A = ComplexF64[1 2; 3 4]\n",
    "mtrx_Function(A, x -> sqrt(x))"
   ]
  },
  {
   "cell_type": "markdown",
   "id": "18b69f50-8e2f-430b-86fc-a63a9acdb972",
   "metadata": {},
   "source": [
    "3. Найдите собственные значения матрицы 𝐴, если"
   ]
  },
  {
   "cell_type": "code",
   "execution_count": 142,
   "id": "386db066-9246-494e-8e54-412e3a4a74ca",
   "metadata": {},
   "outputs": [
    {
     "name": "stdout",
     "output_type": "stream",
     "text": [
      "  2.167 μs (10 allocations: 2.59 KiB)\n"
     ]
    },
    {
     "data": {
      "text/plain": [
       "5-element Vector{Float64}:\n",
       " -129.84037845927043\n",
       "  -56.008181312078634\n",
       "   42.75068638743729\n",
       "   87.15844501190598\n",
       "  541.9394283720058"
      ]
     },
     "execution_count": 142,
     "metadata": {},
     "output_type": "execute_result"
    }
   ],
   "source": [
    "A = [140 97 74 168 131; 97 106 89 131 36; 74 89 152 144 71; 168 131 144 52 142; 131 36 71 142 36]\n",
    "@btime eigvals(A)"
   ]
  },
  {
   "cell_type": "markdown",
   "id": "7b892ccd-69d9-4b76-a041-d11fc2a928f6",
   "metadata": {},
   "source": [
    "Создайте диагональную матрицу из собственных значений матрицы 𝐴. Создайте\n",
    "нижнедиагональную матрицу из матрица 𝐴. Оцените эффективность выполняемых\n",
    "операций."
   ]
  },
  {
   "cell_type": "code",
   "execution_count": 143,
   "id": "cd4c438d-79fd-45d4-ac3e-c17dfd49008d",
   "metadata": {},
   "outputs": [
    {
     "name": "stdout",
     "output_type": "stream",
     "text": [
      "  2.200 μs (11 allocations: 2.84 KiB)\n"
     ]
    },
    {
     "data": {
      "text/plain": [
       "5×5 Matrix{Float64}:\n",
       " -129.84    0.0      0.0      0.0       0.0\n",
       "    0.0   -56.0082   0.0      0.0       0.0\n",
       "    0.0     0.0     42.7507   0.0       0.0\n",
       "    0.0     0.0      0.0     87.1584    0.0\n",
       "    0.0     0.0      0.0      0.0     541.939"
      ]
     },
     "execution_count": 143,
     "metadata": {},
     "output_type": "execute_result"
    }
   ],
   "source": [
    "@btime diagm(eigvals(A))"
   ]
  },
  {
   "cell_type": "code",
   "execution_count": 144,
   "id": "5b1ada23-ffb3-4ce5-9360-54a282f9e7a0",
   "metadata": {},
   "outputs": [
    {
     "name": "stdout",
     "output_type": "stream",
     "text": [
      "  313.248 ns (3 allocations: 224 bytes)\n"
     ]
    },
    {
     "data": {
      "text/plain": [
       "5×5 Bidiagonal{Int64, Vector{Int64}}:\n",
       " 140    ⋅    ⋅    ⋅   ⋅\n",
       "  97  106    ⋅    ⋅   ⋅\n",
       "   ⋅   89  152    ⋅   ⋅\n",
       "   ⋅    ⋅  144   52   ⋅\n",
       "   ⋅    ⋅    ⋅  142  36"
      ]
     },
     "execution_count": 144,
     "metadata": {},
     "output_type": "execute_result"
    }
   ],
   "source": [
    "@btime blA = Bidiagonal(A, :L)"
   ]
  },
  {
   "cell_type": "markdown",
   "id": "1d267b22-d602-4c9d-9b8b-6186076535e1",
   "metadata": {},
   "source": [
    "###  Линейные модели экономики"
   ]
  },
  {
   "cell_type": "markdown",
   "id": "6b8159df-6543-4713-9b46-e15373157f68",
   "metadata": {},
   "source": [
    "1. Матрица 𝐴 называется продуктивной, если решение 𝑥 системы при любой неотрицательной правой части 𝑦 имеет только неотрицательные элементы 𝑥𝑖. Используя это определение, проверьте, являются ли матрицы продуктивными."
   ]
  },
  {
   "cell_type": "code",
   "execution_count": 148,
   "id": "5e7b8a77-4068-438f-8ef6-088393c89cba",
   "metadata": {},
   "outputs": [
    {
     "data": {
      "text/plain": [
       "economicModel (generic function with 1 method)"
      ]
     },
     "execution_count": 148,
     "metadata": {},
     "output_type": "execute_result"
    }
   ],
   "source": [
    "function economicModel(M, y)\n",
    "    x = (Diagonal(fill(1, 2)) - M)^(-1) * y\n",
    "    return x\n",
    "end"
   ]
  },
  {
   "cell_type": "code",
   "execution_count": 149,
   "id": "373cc111-e6ce-4e7a-87b4-855e4633af15",
   "metadata": {},
   "outputs": [
    {
     "data": {
      "text/plain": [
       "2-element Vector{Float64}:\n",
       "  0.6666666666666667\n",
       " -1.0"
      ]
     },
     "metadata": {},
     "output_type": "display_data"
    },
    {
     "name": "stdout",
     "output_type": "stream",
     "text": [
      "Непродуктивный\n"
     ]
    }
   ],
   "source": [
    "# a)\n",
    "A = [1 2; 3 4]\n",
    "Y = [2; 1]\n",
    "X = economicModel(A,Y); display(X)\n",
    "if mapreduce(z -> if z < 0 1 else 0 end, +, X) > 0\n",
    "    println(\"Непродуктивный\") \n",
    "else\n",
    "    println(\"Продуктивный\")\n",
    "end"
   ]
  },
  {
   "cell_type": "code",
   "execution_count": 150,
   "id": "d61d19c1-d845-43bf-aca0-43c30bd4463c",
   "metadata": {},
   "outputs": [
    {
     "data": {
      "text/plain": [
       "2-element Vector{Float64}:\n",
       "  0.5\n",
       " -1.75"
      ]
     },
     "metadata": {},
     "output_type": "display_data"
    },
    {
     "name": "stdout",
     "output_type": "stream",
     "text": [
      "Непродуктивный\n"
     ]
    }
   ],
   "source": [
    "# b)\n",
    "A = [1 2; 3 4]*0.5\n",
    "Y = [2; 1]\n",
    "X = economicModel(A,Y); display(X)\n",
    "if mapreduce(z -> if z < 0 1 else 0 end, +, X) > 0\n",
    "    println(\"Непродуктивный\") \n",
    "else\n",
    "    println(\"Продуктивный\")\n",
    "end"
   ]
  },
  {
   "cell_type": "code",
   "execution_count": 155,
   "id": "dd0b2af0-d243-41a8-8106-c7d94c1bfddb",
   "metadata": {},
   "outputs": [
    {
     "data": {
      "text/plain": [
       "2-element Vector{Float64}:\n",
       " 2.9166666666666665\n",
       " 3.125"
      ]
     },
     "metadata": {},
     "output_type": "display_data"
    },
    {
     "name": "stdout",
     "output_type": "stream",
     "text": [
      "Продуктивный\n"
     ]
    }
   ],
   "source": [
    "# c)\n",
    "A = [1 2; 3 4]*0.1\n",
    "Y = [2; 1]\n",
    "X = economicModel(A,Y); display(X)\n",
    "if mapreduce(z -> if z < 0 1 else 0 end, +, X) > 0\n",
    "    println(\"Непродуктивный\") \n",
    "else\n",
    "    println(\"Продуктивный\")\n",
    "end"
   ]
  },
  {
   "cell_type": "markdown",
   "id": "71ab5380-5531-46d9-a95f-82407fc4b3f7",
   "metadata": {},
   "source": [
    "2. Критерий продуктивности: матрица 𝐴 является продуктивной тогда и только тогда, когда все элементы матрица"
   ]
  },
  {
   "cell_type": "code",
   "execution_count": 154,
   "id": "dcf170e2-3538-4ed7-b05f-f672842bf532",
   "metadata": {},
   "outputs": [
    {
     "data": {
      "text/plain": [
       "OnesModel (generic function with 1 method)"
      ]
     },
     "execution_count": 154,
     "metadata": {},
     "output_type": "execute_result"
    }
   ],
   "source": [
    "function OnesModel(M)\n",
    "    x = (Diagonal(fill(1, size(M,1))) - M)^(-1)\n",
    "    return x\n",
    "end"
   ]
  },
  {
   "cell_type": "code",
   "execution_count": 156,
   "id": "719fa02b-765a-4ae3-a618-53613c90f62e",
   "metadata": {},
   "outputs": [
    {
     "data": {
      "text/plain": [
       "2×2 Matrix{Float64}:\n",
       " -0.0  -0.333333\n",
       " -0.5   0.0"
      ]
     },
     "metadata": {},
     "output_type": "display_data"
    },
    {
     "name": "stdout",
     "output_type": "stream",
     "text": [
      "Непродуктивный\n"
     ]
    }
   ],
   "source": [
    "# a)\n",
    "A = [1 2; 3 1]\n",
    "X = OnesModel(A); display(X)\n",
    "if mapreduce(z -> if z < 0 1 else 0 end, +, X) > 0\n",
    "    println(\"Непродуктивный\") \n",
    "else\n",
    "    println(\"Продуктивный\")\n",
    "end"
   ]
  },
  {
   "cell_type": "code",
   "execution_count": 157,
   "id": "eec3b221-ec1c-406a-ab49-b5706c41b6fd",
   "metadata": {},
   "outputs": [
    {
     "data": {
      "text/plain": [
       "2×2 Matrix{Float64}:\n",
       " -0.4  -0.8\n",
       " -1.2  -0.4"
      ]
     },
     "metadata": {},
     "output_type": "display_data"
    },
    {
     "name": "stdout",
     "output_type": "stream",
     "text": [
      "Непродуктивный\n"
     ]
    }
   ],
   "source": [
    "# b)\n",
    "A = [1 2; 3 1]*0.5\n",
    "X = OnesModel(A); display(X)\n",
    "if mapreduce(z -> if z < 0 1 else 0 end, +, X) > 0\n",
    "    println(\"Непродуктивный\") \n",
    "else\n",
    "    println(\"Продуктивный\")\n",
    "end"
   ]
  },
  {
   "cell_type": "code",
   "execution_count": 158,
   "id": "cfdaf279-4ea1-4c37-9924-8c36000aefe5",
   "metadata": {},
   "outputs": [
    {
     "data": {
      "text/plain": [
       "2×2 Matrix{Float64}:\n",
       " 1.2  0.266667\n",
       " 0.4  1.2"
      ]
     },
     "metadata": {},
     "output_type": "display_data"
    },
    {
     "name": "stdout",
     "output_type": "stream",
     "text": [
      "Продуктивный\n"
     ]
    }
   ],
   "source": [
    "# c)\n",
    "A = [1 2; 3 1]*0.1\n",
    "X = OnesModel(A); display(X)\n",
    "if mapreduce(z -> if z < 0 1 else 0 end, +, X) > 0\n",
    "    println(\"Непродуктивный\") \n",
    "else\n",
    "    println(\"Продуктивный\")\n",
    "end"
   ]
  },
  {
   "cell_type": "markdown",
   "id": "950a4802-8aa0-4e7f-bb62-4dec63cacf2f",
   "metadata": {},
   "source": [
    "3. Спектральный критерий продуктивности: матрица 𝐴 является продуктивной тогда и только тогда, когда все её собственные значения по модулю меньше 1. Используя этот критерий, проверьте, являются ли матрицы продуктивными."
   ]
  },
  {
   "cell_type": "code",
   "execution_count": 160,
   "id": "440189a1-1a3a-42c2-8ce4-87a12a8c3d7d",
   "metadata": {},
   "outputs": [
    {
     "data": {
      "text/plain": [
       "eigenvalues (generic function with 1 method)"
      ]
     },
     "execution_count": 160,
     "metadata": {},
     "output_type": "execute_result"
    }
   ],
   "source": [
    "function UnitarCheck(M)\n",
    "    #=\n",
    "    Матрицы, у которых все собственные значения по модулю равны 1, называются унитарными матрицами.\n",
    "    Свойства:\n",
    "    Каждая унитарная матрица является квадратной матрицей.\n",
    "    Абсолютное значение определителя унитарной матрицы равно единице.\n",
    "    матрица A называется унитарной, если A^(-1)= A\n",
    "    Главное: если A^(-1) = A*, при A* - сопряженное транспонирование A, то A - унитарная.\n",
    "    =#\n",
    "    x = 0\n",
    "    try if conj(transpose(M)) == M^(-1) x += 1 end\n",
    "    catch e\n",
    "        return \"Непродуктивной. $(-1)\"\n",
    "    end\n",
    "    if size(M, 1) == size(M, 2) x += 1 end\n",
    "    if abs(det(M)) == 1 x += 1 end\n",
    "    \n",
    "    if x == 3 return \"Продуктивной. $(x)\" else \"Непродуктивной. $(x)\" end\n",
    "end\n",
    "\n",
    "eigenvalues(M) = eigen(M).values"
   ]
  },
  {
   "cell_type": "code",
   "execution_count": 161,
   "id": "a1fa66e1-6fb6-4b45-9595-d5f4956a099c",
   "metadata": {},
   "outputs": [
    {
     "data": {
      "text/plain": [
       "2-element Vector{Float64}:\n",
       " -1.4494897427831779\n",
       "  3.4494897427831783"
      ]
     },
     "metadata": {},
     "output_type": "display_data"
    },
    {
     "name": "stdout",
     "output_type": "stream",
     "text": [
      "Непродуктивный\n"
     ]
    }
   ],
   "source": [
    "# a)\n",
    "A = [1 2; 3 1]\n",
    "X = eigenvalues(A); display(X)\n",
    "if mapreduce(z -> if z < 0 1 else 0 end, +, X) > 0\n",
    "    println(\"Непродуктивный\") \n",
    "else\n",
    "    println(\"Продуктивный\")\n",
    "end"
   ]
  },
  {
   "cell_type": "code",
   "execution_count": 162,
   "id": "cf51945f-c46b-42c7-928c-9e23107c7899",
   "metadata": {},
   "outputs": [
    {
     "data": {
      "text/plain": [
       "2-element Vector{Float64}:\n",
       " -0.7247448713915892\n",
       "  1.724744871391589"
      ]
     },
     "metadata": {},
     "output_type": "display_data"
    },
    {
     "name": "stdout",
     "output_type": "stream",
     "text": [
      "Непродуктивный\n"
     ]
    }
   ],
   "source": [
    "# b)\n",
    "A = [1 2; 3 1]*0.5\n",
    "X = eigenvalues(A); display(X)\n",
    "if mapreduce(z -> if z < 0 1 else 0 end, +, X) > 0\n",
    "    println(\"Непродуктивный\") \n",
    "else\n",
    "    println(\"Продуктивный\")\n",
    "end"
   ]
  },
  {
   "cell_type": "code",
   "execution_count": 163,
   "id": "e0aeb95b-0cc5-4594-b8d3-3c21f8651548",
   "metadata": {},
   "outputs": [
    {
     "data": {
      "text/plain": [
       "2-element Vector{Float64}:\n",
       " -0.14494897427831785\n",
       "  0.34494897427831783"
      ]
     },
     "metadata": {},
     "output_type": "display_data"
    },
    {
     "name": "stdout",
     "output_type": "stream",
     "text": [
      "Непродуктивный\n"
     ]
    }
   ],
   "source": [
    "# c)\n",
    "A = [1 2; 3 1]*0.1\n",
    "X = eigenvalues(A); display(X)\n",
    "if mapreduce(z -> if z < 0 1 else 0 end, +, X) > 0\n",
    "    println(\"Непродуктивный\") \n",
    "else\n",
    "    println(\"Продуктивный\")\n",
    "end"
   ]
  },
  {
   "cell_type": "code",
   "execution_count": 164,
   "id": "66a79c87-45c9-4696-9a0c-7ce522145add",
   "metadata": {},
   "outputs": [
    {
     "data": {
      "text/plain": [
       "3-element Vector{Float64}:\n",
       " 0.02679491924311228\n",
       " 0.1\n",
       " 0.37320508075688774"
      ]
     },
     "metadata": {},
     "output_type": "display_data"
    },
    {
     "name": "stdout",
     "output_type": "stream",
     "text": [
      "Продуктивный\n"
     ]
    }
   ],
   "source": [
    "# d)\n",
    "A = [0.1 0.2 0.3; 0.0 0.1 0.2; 0.0 0.1 0.3]\n",
    "X = eigenvalues(A); display(X)\n",
    "if mapreduce(z -> if z < 0 1 else 0 end, +, X) > 0\n",
    "    println(\"Непродуктивный\") \n",
    "else\n",
    "    println(\"Продуктивный\")\n",
    "end"
   ]
  },
  {
   "cell_type": "code",
   "execution_count": null,
   "id": "64ba2a0f-bff0-4144-8fa1-db1c83b3cc78",
   "metadata": {},
   "outputs": [],
   "source": []
  }
 ],
 "metadata": {
  "kernelspec": {
   "display_name": "Julia 1.10.0",
   "language": "julia",
   "name": "julia-1.10"
  },
  "language_info": {
   "file_extension": ".jl",
   "mimetype": "application/julia",
   "name": "julia",
   "version": "1.10.0"
  }
 },
 "nbformat": 4,
 "nbformat_minor": 5
}
